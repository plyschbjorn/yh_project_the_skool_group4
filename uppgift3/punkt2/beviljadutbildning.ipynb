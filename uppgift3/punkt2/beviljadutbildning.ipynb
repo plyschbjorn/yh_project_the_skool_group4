{
 "cells": [
  {
   "cell_type": "code",
   "execution_count": null,
   "id": "262eb233",
   "metadata": {},
   "outputs": [
    {
     "name": "stdout",
     "output_type": "stream",
     "text": [
      "[2025-05-18 14:01:30.676][Taipy][INFO] Running in 'single_client' mode in notebook environment\n",
      "[2025-05-18 14:01:34.978][Taipy][INFO]  * Server starting on http://127.0.0.1:8050\n"
     ]
    },
    {
     "name": "stderr",
     "output_type": "stream",
     "text": [
      "c:\\STI\\github\\projekt_skool\\yh_project_the_skool_group4\\.venv\\Lib\\site-packages\\gevent\\hub.py:161: UserWarning:\n",
      "\n",
      "libuv only supports millisecond timer resolution; all times less will be set to 1 ms\n",
      "\n"
     ]
    }
   ],
   "source": [
    "import pandas as pd\n",
    "import plotly.express as px\n",
    "from taipy.gui import Gui\n",
    "import taipy.gui.builder as tgb\n",
    "\n",
    "# === 1. Load and transform data ===\n",
    "df = pd.read_csv(\"../../files/beviljade_platser_full_2019_2024.csv\")\n",
    "long_df = df.melt(id_vars=\"Utbildningsområde\", var_name=\"År\", value_name=\"Beviljade\")\n",
    "long_df[\"År\"] = long_df[\"År\"].astype(int)\n",
    "\n",
    "# === 2. Create default chart ===\n",
    "utb_list = sorted(long_df[\"Utbildningsområde\"].unique().tolist())\n",
    "selected_field = utb_list[0]  # Default selection\n",
    "\n",
    "filtered = long_df[long_df[\"Utbildningsområde\"] == selected_field]\n",
    "filtered = filtered.iloc[:-1]\n",
    "chart_fig = px.line(filtered, x=\"År\", y=\"Beviljade\", title=f\"Beviljade platser för {selected_field}\")\n",
    "\n",
    "def update_chart(state):\n",
    "    filtered = long_df[long_df[\"Utbildningsområde\"] == state.selected_field]\n",
    "    fig = px.line(filtered, x=\"År\", y=\"Beviljade\", title=f\"Beviljade platser för {state.selected_field}\", line_shape=\"spline\")\n",
    "    fig.update_traces(line=dict(width=2)) \n",
    "    fig.update_layout(\n",
    "    title=f\"Beviljade platser för <b>{state.selected_field}</b>\",\n",
    "    xaxis_title=\"År\",\n",
    "    yaxis_title=\"Antal studerande\",\n",
    "    font=dict(size=12),\n",
    "    title_x=0.5,\n",
    "    width=700,\n",
    "    height=400,\n",
    "    margin=dict(l=80, r=30, t=60, b=60),\n",
    "    yaxis=dict(\n",
    "        ticklabelstandoff=15,\n",
    "        showline=True,\n",
    "        linecolor='lightgray',\n",
    "        linewidth=2\n",
    "    ),\n",
    "    xaxis=dict(\n",
    "        showline=True,\n",
    "        linecolor='lightgray',\n",
    "        linewidth=2\n",
    "    )\n",
    ")\n",
    "    state.chart_fig = fig\n",
    "\n",
    "\n",
    "# === 4. Build Taipy GUI ===\n",
    "with tgb.Page() as page:\n",
    "    with tgb.part(class_name=\"container card\"):\n",
    "        tgb.text(\"## Vad väljer studenterna? En titt på trender inom yrkeshögskolan (2019–2024)\", mode=\"md\")\n",
    "\n",
    "        tgb.text(\"Välj utbildningsområde\", mode=\"md\")\n",
    "        tgb.selector(\n",
    "            value=\"{selected_field}\",\n",
    "            lov=utb_list,\n",
    "            dropdown=True,\n",
    "            on_change=update_chart,\n",
    "            width=\"60%\"\n",
    "        )\n",
    "\n",
    "        tgb.chart(figure=\"{chart_fig}\", mode=\"plotly\", width=800, height=400)\n",
    "\n",
    "# === 5. Run the GUI ===\n",
    "Gui(page).run(dark_mode=False, use_reloader=False, port=8050)\n"
   ]
  }
 ],
 "metadata": {
  "kernelspec": {
   "display_name": ".venv",
   "language": "python",
   "name": "python3"
  },
  "language_info": {
   "codemirror_mode": {
    "name": "ipython",
    "version": 3
   },
   "file_extension": ".py",
   "mimetype": "text/x-python",
   "name": "python",
   "nbconvert_exporter": "python",
   "pygments_lexer": "ipython3",
   "version": "3.12.5"
  }
 },
 "nbformat": 4,
 "nbformat_minor": 5
}
