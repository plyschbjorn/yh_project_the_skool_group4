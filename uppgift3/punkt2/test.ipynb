{
 "cells": [
  {
   "cell_type": "code",
   "execution_count": null,
   "id": "d4a164ed",
   "metadata": {},
   "outputs": [],
   "source": []
  },
  {
   "cell_type": "code",
   "execution_count": 186,
   "id": "68c51eb3",
   "metadata": {},
   "outputs": [
    {
     "name": "stdout",
     "output_type": "stream",
     "text": [
      "                            Indicator  Year    Value\n",
      "0  Antal antagna som påbörjat studier  2007  14652.0\n",
      "1       därav andel kvinnor i procent  2007     55.0\n",
      "2           därav andel män i procent  2007     45.0\n",
      "3                    Antal studerande  2007  33684.0\n",
      "4       därav andel kvinnor i procent  2007     55.0\n"
     ]
    },
    {
     "name": "stderr",
     "output_type": "stream",
     "text": [
      "c:\\STI\\github\\projekt_skool\\yh_project_the_skool_group4\\.venv\\Lib\\site-packages\\gevent\\hub.py:161: UserWarning:\n",
      "\n",
      "libuv only supports millisecond timer resolution; all times less will be set to 1 ms\n",
      "\n"
     ]
    }
   ],
   "source": [
    "import pandas as pd\n",
    "import plotly.express as px\n",
    "\n",
    "\n",
    "df = pd.read_excel(\"../../files/long_format_cleaned_data.xlsx\")\n",
    "print(df.head())\n",
    "\n"
   ]
  },
  {
   "cell_type": "code",
   "execution_count": 187,
   "id": "f0833c1d",
   "metadata": {},
   "outputs": [
    {
     "data": {
      "text/html": [
       "<div>\n",
       "<style scoped>\n",
       "    .dataframe tbody tr th:only-of-type {\n",
       "        vertical-align: middle;\n",
       "    }\n",
       "\n",
       "    .dataframe tbody tr th {\n",
       "        vertical-align: top;\n",
       "    }\n",
       "\n",
       "    .dataframe thead th {\n",
       "        text-align: right;\n",
       "    }\n",
       "</style>\n",
       "<table border=\"1\" class=\"dataframe\">\n",
       "  <thead>\n",
       "    <tr style=\"text-align: right;\">\n",
       "      <th></th>\n",
       "      <th>Indicator</th>\n",
       "      <th>Year</th>\n",
       "      <th>Value</th>\n",
       "    </tr>\n",
       "  </thead>\n",
       "  <tbody>\n",
       "    <tr>\n",
       "      <th>3</th>\n",
       "      <td>Antal studerande</td>\n",
       "      <td>2007</td>\n",
       "      <td>33684.0</td>\n",
       "    </tr>\n",
       "    <tr>\n",
       "      <th>15</th>\n",
       "      <td>Antal studerande</td>\n",
       "      <td>2008</td>\n",
       "      <td>36657.0</td>\n",
       "    </tr>\n",
       "    <tr>\n",
       "      <th>27</th>\n",
       "      <td>Antal studerande</td>\n",
       "      <td>2009</td>\n",
       "      <td>39417.0</td>\n",
       "    </tr>\n",
       "    <tr>\n",
       "      <th>39</th>\n",
       "      <td>Antal studerande</td>\n",
       "      <td>2010</td>\n",
       "      <td>41597.0</td>\n",
       "    </tr>\n",
       "    <tr>\n",
       "      <th>51</th>\n",
       "      <td>Antal studerande</td>\n",
       "      <td>2011</td>\n",
       "      <td>42484.0</td>\n",
       "    </tr>\n",
       "    <tr>\n",
       "      <th>63</th>\n",
       "      <td>Antal studerande</td>\n",
       "      <td>2012</td>\n",
       "      <td>40754.0</td>\n",
       "    </tr>\n",
       "    <tr>\n",
       "      <th>75</th>\n",
       "      <td>Antal studerande</td>\n",
       "      <td>2013</td>\n",
       "      <td>42596.0</td>\n",
       "    </tr>\n",
       "    <tr>\n",
       "      <th>87</th>\n",
       "      <td>Antal studerande</td>\n",
       "      <td>2014</td>\n",
       "      <td>44929.0</td>\n",
       "    </tr>\n",
       "    <tr>\n",
       "      <th>99</th>\n",
       "      <td>Antal studerande</td>\n",
       "      <td>2015</td>\n",
       "      <td>46633.0</td>\n",
       "    </tr>\n",
       "    <tr>\n",
       "      <th>111</th>\n",
       "      <td>Antal studerande</td>\n",
       "      <td>2016</td>\n",
       "      <td>47983.0</td>\n",
       "    </tr>\n",
       "    <tr>\n",
       "      <th>123</th>\n",
       "      <td>Antal studerande</td>\n",
       "      <td>2017</td>\n",
       "      <td>50373.0</td>\n",
       "    </tr>\n",
       "    <tr>\n",
       "      <th>135</th>\n",
       "      <td>Antal studerande</td>\n",
       "      <td>2018</td>\n",
       "      <td>52741.0</td>\n",
       "    </tr>\n",
       "    <tr>\n",
       "      <th>147</th>\n",
       "      <td>Antal studerande</td>\n",
       "      <td>2019</td>\n",
       "      <td>61393.0</td>\n",
       "    </tr>\n",
       "    <tr>\n",
       "      <th>159</th>\n",
       "      <td>Antal studerande</td>\n",
       "      <td>2020</td>\n",
       "      <td>75371.0</td>\n",
       "    </tr>\n",
       "    <tr>\n",
       "      <th>171</th>\n",
       "      <td>Antal studerande</td>\n",
       "      <td>2021</td>\n",
       "      <td>82753.0</td>\n",
       "    </tr>\n",
       "    <tr>\n",
       "      <th>183</th>\n",
       "      <td>Antal studerande</td>\n",
       "      <td>2022</td>\n",
       "      <td>84871.0</td>\n",
       "    </tr>\n",
       "    <tr>\n",
       "      <th>195</th>\n",
       "      <td>Antal studerande</td>\n",
       "      <td>2023</td>\n",
       "      <td>84560.0</td>\n",
       "    </tr>\n",
       "    <tr>\n",
       "      <th>207</th>\n",
       "      <td>Antal studerande</td>\n",
       "      <td>2024</td>\n",
       "      <td>87225.0</td>\n",
       "    </tr>\n",
       "  </tbody>\n",
       "</table>\n",
       "</div>"
      ],
      "text/plain": [
       "            Indicator  Year    Value\n",
       "3    Antal studerande  2007  33684.0\n",
       "15   Antal studerande  2008  36657.0\n",
       "27   Antal studerande  2009  39417.0\n",
       "39   Antal studerande  2010  41597.0\n",
       "51   Antal studerande  2011  42484.0\n",
       "63   Antal studerande  2012  40754.0\n",
       "75   Antal studerande  2013  42596.0\n",
       "87   Antal studerande  2014  44929.0\n",
       "99   Antal studerande  2015  46633.0\n",
       "111  Antal studerande  2016  47983.0\n",
       "123  Antal studerande  2017  50373.0\n",
       "135  Antal studerande  2018  52741.0\n",
       "147  Antal studerande  2019  61393.0\n",
       "159  Antal studerande  2020  75371.0\n",
       "171  Antal studerande  2021  82753.0\n",
       "183  Antal studerande  2022  84871.0\n",
       "195  Antal studerande  2023  84560.0\n",
       "207  Antal studerande  2024  87225.0"
      ]
     },
     "execution_count": 187,
     "metadata": {},
     "output_type": "execute_result"
    },
    {
     "name": "stderr",
     "output_type": "stream",
     "text": [
      "c:\\STI\\github\\projekt_skool\\yh_project_the_skool_group4\\.venv\\Lib\\site-packages\\gevent\\hub.py:161: UserWarning:\n",
      "\n",
      "libuv only supports millisecond timer resolution; all times less will be set to 1 ms\n",
      "\n"
     ]
    }
   ],
   "source": [
    "df.query(\"Indicator == 'Antal studerande'\")"
   ]
  },
  {
   "cell_type": "code",
   "execution_count": 188,
   "id": "40b5dc24",
   "metadata": {},
   "outputs": [
    {
     "data": {
      "text/html": [
       "<div>\n",
       "<style scoped>\n",
       "    .dataframe tbody tr th:only-of-type {\n",
       "        vertical-align: middle;\n",
       "    }\n",
       "\n",
       "    .dataframe tbody tr th {\n",
       "        vertical-align: top;\n",
       "    }\n",
       "\n",
       "    .dataframe thead th {\n",
       "        text-align: right;\n",
       "    }\n",
       "</style>\n",
       "<table border=\"1\" class=\"dataframe\">\n",
       "  <thead>\n",
       "    <tr style=\"text-align: right;\">\n",
       "      <th></th>\n",
       "      <th>index</th>\n",
       "      <th>Indicator</th>\n",
       "      <th>Year</th>\n",
       "      <th>Value</th>\n",
       "    </tr>\n",
       "  </thead>\n",
       "  <tbody>\n",
       "    <tr>\n",
       "      <th>0</th>\n",
       "      <td>3</td>\n",
       "      <td>Antal studerande</td>\n",
       "      <td>2007</td>\n",
       "      <td>33684.0</td>\n",
       "    </tr>\n",
       "    <tr>\n",
       "      <th>1</th>\n",
       "      <td>15</td>\n",
       "      <td>Antal studerande</td>\n",
       "      <td>2008</td>\n",
       "      <td>36657.0</td>\n",
       "    </tr>\n",
       "    <tr>\n",
       "      <th>2</th>\n",
       "      <td>27</td>\n",
       "      <td>Antal studerande</td>\n",
       "      <td>2009</td>\n",
       "      <td>39417.0</td>\n",
       "    </tr>\n",
       "    <tr>\n",
       "      <th>3</th>\n",
       "      <td>39</td>\n",
       "      <td>Antal studerande</td>\n",
       "      <td>2010</td>\n",
       "      <td>41597.0</td>\n",
       "    </tr>\n",
       "    <tr>\n",
       "      <th>4</th>\n",
       "      <td>51</td>\n",
       "      <td>Antal studerande</td>\n",
       "      <td>2011</td>\n",
       "      <td>42484.0</td>\n",
       "    </tr>\n",
       "    <tr>\n",
       "      <th>5</th>\n",
       "      <td>63</td>\n",
       "      <td>Antal studerande</td>\n",
       "      <td>2012</td>\n",
       "      <td>40754.0</td>\n",
       "    </tr>\n",
       "    <tr>\n",
       "      <th>6</th>\n",
       "      <td>75</td>\n",
       "      <td>Antal studerande</td>\n",
       "      <td>2013</td>\n",
       "      <td>42596.0</td>\n",
       "    </tr>\n",
       "    <tr>\n",
       "      <th>7</th>\n",
       "      <td>87</td>\n",
       "      <td>Antal studerande</td>\n",
       "      <td>2014</td>\n",
       "      <td>44929.0</td>\n",
       "    </tr>\n",
       "    <tr>\n",
       "      <th>8</th>\n",
       "      <td>99</td>\n",
       "      <td>Antal studerande</td>\n",
       "      <td>2015</td>\n",
       "      <td>46633.0</td>\n",
       "    </tr>\n",
       "    <tr>\n",
       "      <th>9</th>\n",
       "      <td>111</td>\n",
       "      <td>Antal studerande</td>\n",
       "      <td>2016</td>\n",
       "      <td>47983.0</td>\n",
       "    </tr>\n",
       "    <tr>\n",
       "      <th>10</th>\n",
       "      <td>123</td>\n",
       "      <td>Antal studerande</td>\n",
       "      <td>2017</td>\n",
       "      <td>50373.0</td>\n",
       "    </tr>\n",
       "    <tr>\n",
       "      <th>11</th>\n",
       "      <td>135</td>\n",
       "      <td>Antal studerande</td>\n",
       "      <td>2018</td>\n",
       "      <td>52741.0</td>\n",
       "    </tr>\n",
       "    <tr>\n",
       "      <th>12</th>\n",
       "      <td>147</td>\n",
       "      <td>Antal studerande</td>\n",
       "      <td>2019</td>\n",
       "      <td>61393.0</td>\n",
       "    </tr>\n",
       "    <tr>\n",
       "      <th>13</th>\n",
       "      <td>159</td>\n",
       "      <td>Antal studerande</td>\n",
       "      <td>2020</td>\n",
       "      <td>75371.0</td>\n",
       "    </tr>\n",
       "    <tr>\n",
       "      <th>14</th>\n",
       "      <td>171</td>\n",
       "      <td>Antal studerande</td>\n",
       "      <td>2021</td>\n",
       "      <td>82753.0</td>\n",
       "    </tr>\n",
       "    <tr>\n",
       "      <th>15</th>\n",
       "      <td>183</td>\n",
       "      <td>Antal studerande</td>\n",
       "      <td>2022</td>\n",
       "      <td>84871.0</td>\n",
       "    </tr>\n",
       "    <tr>\n",
       "      <th>16</th>\n",
       "      <td>195</td>\n",
       "      <td>Antal studerande</td>\n",
       "      <td>2023</td>\n",
       "      <td>84560.0</td>\n",
       "    </tr>\n",
       "    <tr>\n",
       "      <th>17</th>\n",
       "      <td>207</td>\n",
       "      <td>Antal studerande</td>\n",
       "      <td>2024</td>\n",
       "      <td>87225.0</td>\n",
       "    </tr>\n",
       "  </tbody>\n",
       "</table>\n",
       "</div>"
      ],
      "text/plain": [
       "    index         Indicator  Year    Value\n",
       "0       3  Antal studerande  2007  33684.0\n",
       "1      15  Antal studerande  2008  36657.0\n",
       "2      27  Antal studerande  2009  39417.0\n",
       "3      39  Antal studerande  2010  41597.0\n",
       "4      51  Antal studerande  2011  42484.0\n",
       "5      63  Antal studerande  2012  40754.0\n",
       "6      75  Antal studerande  2013  42596.0\n",
       "7      87  Antal studerande  2014  44929.0\n",
       "8      99  Antal studerande  2015  46633.0\n",
       "9     111  Antal studerande  2016  47983.0\n",
       "10    123  Antal studerande  2017  50373.0\n",
       "11    135  Antal studerande  2018  52741.0\n",
       "12    147  Antal studerande  2019  61393.0\n",
       "13    159  Antal studerande  2020  75371.0\n",
       "14    171  Antal studerande  2021  82753.0\n",
       "15    183  Antal studerande  2022  84871.0\n",
       "16    195  Antal studerande  2023  84560.0\n",
       "17    207  Antal studerande  2024  87225.0"
      ]
     },
     "execution_count": 188,
     "metadata": {},
     "output_type": "execute_result"
    },
    {
     "name": "stderr",
     "output_type": "stream",
     "text": [
      "c:\\STI\\github\\projekt_skool\\yh_project_the_skool_group4\\.venv\\Lib\\site-packages\\gevent\\hub.py:161: UserWarning:\n",
      "\n",
      "libuv only supports millisecond timer resolution; all times less will be set to 1 ms\n",
      "\n"
     ]
    }
   ],
   "source": [
    "def filter_df_indicator(df, indicator=\"Antal studerande\"):\n",
    "    return df.query(\"Indicator == @indicator\").reset_index()\n",
    "\n",
    "df_antal_studerande = filter_df_indicator(df) \n",
    "df_antal_studerande"
   ]
  },
  {
   "cell_type": "code",
   "execution_count": 189,
   "id": "d4b9ea0a",
   "metadata": {},
   "outputs": [
    {
     "data": {
      "application/vnd.plotly.v1+json": {
       "config": {
        "plotlyServerURL": "https://plot.ly"
       },
       "data": [
        {
         "hovertemplate": "<b>%{x}</b> studerande<br>%{y}",
         "legendgroup": "",
         "marker": {
          "color": "#A0C0BD",
          "line": {
           "color": "white",
           "width": 1
          },
          "pattern": {
           "shape": ""
          }
         },
         "name": "",
         "orientation": "h",
         "showlegend": false,
         "text": {
          "bdata": "AAAAAIBy4EAAAAAAIObhQAAAAAAgP+NAAAAAAKBP5EAAAAAAgL7kQAAAAABA5uNAAAAAAIDM5EAAAAAAIPDlQAAAAAAgxeZAAAAAAOBt50AAAAAAoJjoQAAAAACgwOlAAAAAACD67UAAAAAAsGbyQAAAAAAQNPRAAAAAAHC49EAAAAAAAKX0QAAAAACQS/VA",
          "dtype": "f8"
         },
         "textfont": {
          "size": 10
         },
         "textposition": "outside",
         "texttemplate": "%{x}",
         "type": "bar",
         "x": {
          "bdata": "AAAAAIBy4EAAAAAAIObhQAAAAAAgP+NAAAAAAKBP5EAAAAAAgL7kQAAAAABA5uNAAAAAAIDM5EAAAAAAIPDlQAAAAAAgxeZAAAAAAOBt50AAAAAAoJjoQAAAAACgwOlAAAAAACD67UAAAAAAsGbyQAAAAAAQNPRAAAAAAHC49EAAAAAAAKX0QAAAAACQS/VA",
          "dtype": "f8"
         },
         "xaxis": "x",
         "y": {
          "bdata": "1wfYB9kH2gfbB9wH3QfeB98H4AfhB+IH4wfkB+UH5gfnB+gH",
          "dtype": "i2"
         },
         "yaxis": "y"
        }
       ],
       "layout": {
        "annotations": [
         {
          "align": "center",
          "font": {
           "color": "gray",
           "size": 10
          },
          "showarrow": false,
          "text": "Källa: Statistiska centralbyrån (SCB)",
          "x": 0.5,
          "xref": "paper",
          "y": -0.14,
          "yref": "paper"
         }
        ],
        "barmode": "relative",
        "height": 600,
        "legend": {
         "tracegroupgap": 0
        },
        "margin": {
         "t": 60
        },
        "plot_bgcolor": "rgba(0,0,0,0)",
        "template": {
         "data": {
          "bar": [
           {
            "error_x": {
             "color": "#2a3f5f"
            },
            "error_y": {
             "color": "#2a3f5f"
            },
            "marker": {
             "line": {
              "color": "#E5ECF6",
              "width": 0.5
             },
             "pattern": {
              "fillmode": "overlay",
              "size": 10,
              "solidity": 0.2
             }
            },
            "type": "bar"
           }
          ],
          "barpolar": [
           {
            "marker": {
             "line": {
              "color": "#E5ECF6",
              "width": 0.5
             },
             "pattern": {
              "fillmode": "overlay",
              "size": 10,
              "solidity": 0.2
             }
            },
            "type": "barpolar"
           }
          ],
          "carpet": [
           {
            "aaxis": {
             "endlinecolor": "#2a3f5f",
             "gridcolor": "white",
             "linecolor": "white",
             "minorgridcolor": "white",
             "startlinecolor": "#2a3f5f"
            },
            "baxis": {
             "endlinecolor": "#2a3f5f",
             "gridcolor": "white",
             "linecolor": "white",
             "minorgridcolor": "white",
             "startlinecolor": "#2a3f5f"
            },
            "type": "carpet"
           }
          ],
          "choropleth": [
           {
            "colorbar": {
             "outlinewidth": 0,
             "ticks": ""
            },
            "type": "choropleth"
           }
          ],
          "contour": [
           {
            "colorbar": {
             "outlinewidth": 0,
             "ticks": ""
            },
            "colorscale": [
             [
              0,
              "#0d0887"
             ],
             [
              0.1111111111111111,
              "#46039f"
             ],
             [
              0.2222222222222222,
              "#7201a8"
             ],
             [
              0.3333333333333333,
              "#9c179e"
             ],
             [
              0.4444444444444444,
              "#bd3786"
             ],
             [
              0.5555555555555556,
              "#d8576b"
             ],
             [
              0.6666666666666666,
              "#ed7953"
             ],
             [
              0.7777777777777778,
              "#fb9f3a"
             ],
             [
              0.8888888888888888,
              "#fdca26"
             ],
             [
              1,
              "#f0f921"
             ]
            ],
            "type": "contour"
           }
          ],
          "contourcarpet": [
           {
            "colorbar": {
             "outlinewidth": 0,
             "ticks": ""
            },
            "type": "contourcarpet"
           }
          ],
          "heatmap": [
           {
            "colorbar": {
             "outlinewidth": 0,
             "ticks": ""
            },
            "colorscale": [
             [
              0,
              "#0d0887"
             ],
             [
              0.1111111111111111,
              "#46039f"
             ],
             [
              0.2222222222222222,
              "#7201a8"
             ],
             [
              0.3333333333333333,
              "#9c179e"
             ],
             [
              0.4444444444444444,
              "#bd3786"
             ],
             [
              0.5555555555555556,
              "#d8576b"
             ],
             [
              0.6666666666666666,
              "#ed7953"
             ],
             [
              0.7777777777777778,
              "#fb9f3a"
             ],
             [
              0.8888888888888888,
              "#fdca26"
             ],
             [
              1,
              "#f0f921"
             ]
            ],
            "type": "heatmap"
           }
          ],
          "histogram": [
           {
            "marker": {
             "pattern": {
              "fillmode": "overlay",
              "size": 10,
              "solidity": 0.2
             }
            },
            "type": "histogram"
           }
          ],
          "histogram2d": [
           {
            "colorbar": {
             "outlinewidth": 0,
             "ticks": ""
            },
            "colorscale": [
             [
              0,
              "#0d0887"
             ],
             [
              0.1111111111111111,
              "#46039f"
             ],
             [
              0.2222222222222222,
              "#7201a8"
             ],
             [
              0.3333333333333333,
              "#9c179e"
             ],
             [
              0.4444444444444444,
              "#bd3786"
             ],
             [
              0.5555555555555556,
              "#d8576b"
             ],
             [
              0.6666666666666666,
              "#ed7953"
             ],
             [
              0.7777777777777778,
              "#fb9f3a"
             ],
             [
              0.8888888888888888,
              "#fdca26"
             ],
             [
              1,
              "#f0f921"
             ]
            ],
            "type": "histogram2d"
           }
          ],
          "histogram2dcontour": [
           {
            "colorbar": {
             "outlinewidth": 0,
             "ticks": ""
            },
            "colorscale": [
             [
              0,
              "#0d0887"
             ],
             [
              0.1111111111111111,
              "#46039f"
             ],
             [
              0.2222222222222222,
              "#7201a8"
             ],
             [
              0.3333333333333333,
              "#9c179e"
             ],
             [
              0.4444444444444444,
              "#bd3786"
             ],
             [
              0.5555555555555556,
              "#d8576b"
             ],
             [
              0.6666666666666666,
              "#ed7953"
             ],
             [
              0.7777777777777778,
              "#fb9f3a"
             ],
             [
              0.8888888888888888,
              "#fdca26"
             ],
             [
              1,
              "#f0f921"
             ]
            ],
            "type": "histogram2dcontour"
           }
          ],
          "mesh3d": [
           {
            "colorbar": {
             "outlinewidth": 0,
             "ticks": ""
            },
            "type": "mesh3d"
           }
          ],
          "parcoords": [
           {
            "line": {
             "colorbar": {
              "outlinewidth": 0,
              "ticks": ""
             }
            },
            "type": "parcoords"
           }
          ],
          "pie": [
           {
            "automargin": true,
            "type": "pie"
           }
          ],
          "scatter": [
           {
            "fillpattern": {
             "fillmode": "overlay",
             "size": 10,
             "solidity": 0.2
            },
            "type": "scatter"
           }
          ],
          "scatter3d": [
           {
            "line": {
             "colorbar": {
              "outlinewidth": 0,
              "ticks": ""
             }
            },
            "marker": {
             "colorbar": {
              "outlinewidth": 0,
              "ticks": ""
             }
            },
            "type": "scatter3d"
           }
          ],
          "scattercarpet": [
           {
            "marker": {
             "colorbar": {
              "outlinewidth": 0,
              "ticks": ""
             }
            },
            "type": "scattercarpet"
           }
          ],
          "scattergeo": [
           {
            "marker": {
             "colorbar": {
              "outlinewidth": 0,
              "ticks": ""
             }
            },
            "type": "scattergeo"
           }
          ],
          "scattergl": [
           {
            "marker": {
             "colorbar": {
              "outlinewidth": 0,
              "ticks": ""
             }
            },
            "type": "scattergl"
           }
          ],
          "scattermap": [
           {
            "marker": {
             "colorbar": {
              "outlinewidth": 0,
              "ticks": ""
             }
            },
            "type": "scattermap"
           }
          ],
          "scattermapbox": [
           {
            "marker": {
             "colorbar": {
              "outlinewidth": 0,
              "ticks": ""
             }
            },
            "type": "scattermapbox"
           }
          ],
          "scatterpolar": [
           {
            "marker": {
             "colorbar": {
              "outlinewidth": 0,
              "ticks": ""
             }
            },
            "type": "scatterpolar"
           }
          ],
          "scatterpolargl": [
           {
            "marker": {
             "colorbar": {
              "outlinewidth": 0,
              "ticks": ""
             }
            },
            "type": "scatterpolargl"
           }
          ],
          "scatterternary": [
           {
            "marker": {
             "colorbar": {
              "outlinewidth": 0,
              "ticks": ""
             }
            },
            "type": "scatterternary"
           }
          ],
          "surface": [
           {
            "colorbar": {
             "outlinewidth": 0,
             "ticks": ""
            },
            "colorscale": [
             [
              0,
              "#0d0887"
             ],
             [
              0.1111111111111111,
              "#46039f"
             ],
             [
              0.2222222222222222,
              "#7201a8"
             ],
             [
              0.3333333333333333,
              "#9c179e"
             ],
             [
              0.4444444444444444,
              "#bd3786"
             ],
             [
              0.5555555555555556,
              "#d8576b"
             ],
             [
              0.6666666666666666,
              "#ed7953"
             ],
             [
              0.7777777777777778,
              "#fb9f3a"
             ],
             [
              0.8888888888888888,
              "#fdca26"
             ],
             [
              1,
              "#f0f921"
             ]
            ],
            "type": "surface"
           }
          ],
          "table": [
           {
            "cells": {
             "fill": {
              "color": "#EBF0F8"
             },
             "line": {
              "color": "white"
             }
            },
            "header": {
             "fill": {
              "color": "#C8D4E3"
             },
             "line": {
              "color": "white"
             }
            },
            "type": "table"
           }
          ]
         },
         "layout": {
          "annotationdefaults": {
           "arrowcolor": "#2a3f5f",
           "arrowhead": 0,
           "arrowwidth": 1
          },
          "autotypenumbers": "strict",
          "coloraxis": {
           "colorbar": {
            "outlinewidth": 0,
            "ticks": ""
           }
          },
          "colorscale": {
           "diverging": [
            [
             0,
             "#8e0152"
            ],
            [
             0.1,
             "#c51b7d"
            ],
            [
             0.2,
             "#de77ae"
            ],
            [
             0.3,
             "#f1b6da"
            ],
            [
             0.4,
             "#fde0ef"
            ],
            [
             0.5,
             "#f7f7f7"
            ],
            [
             0.6,
             "#e6f5d0"
            ],
            [
             0.7,
             "#b8e186"
            ],
            [
             0.8,
             "#7fbc41"
            ],
            [
             0.9,
             "#4d9221"
            ],
            [
             1,
             "#276419"
            ]
           ],
           "sequential": [
            [
             0,
             "#0d0887"
            ],
            [
             0.1111111111111111,
             "#46039f"
            ],
            [
             0.2222222222222222,
             "#7201a8"
            ],
            [
             0.3333333333333333,
             "#9c179e"
            ],
            [
             0.4444444444444444,
             "#bd3786"
            ],
            [
             0.5555555555555556,
             "#d8576b"
            ],
            [
             0.6666666666666666,
             "#ed7953"
            ],
            [
             0.7777777777777778,
             "#fb9f3a"
            ],
            [
             0.8888888888888888,
             "#fdca26"
            ],
            [
             1,
             "#f0f921"
            ]
           ],
           "sequentialminus": [
            [
             0,
             "#0d0887"
            ],
            [
             0.1111111111111111,
             "#46039f"
            ],
            [
             0.2222222222222222,
             "#7201a8"
            ],
            [
             0.3333333333333333,
             "#9c179e"
            ],
            [
             0.4444444444444444,
             "#bd3786"
            ],
            [
             0.5555555555555556,
             "#d8576b"
            ],
            [
             0.6666666666666666,
             "#ed7953"
            ],
            [
             0.7777777777777778,
             "#fb9f3a"
            ],
            [
             0.8888888888888888,
             "#fdca26"
            ],
            [
             1,
             "#f0f921"
            ]
           ]
          },
          "colorway": [
           "#636efa",
           "#EF553B",
           "#00cc96",
           "#ab63fa",
           "#FFA15A",
           "#19d3f3",
           "#FF6692",
           "#B6E880",
           "#FF97FF",
           "#FECB52"
          ],
          "font": {
           "color": "#2a3f5f"
          },
          "geo": {
           "bgcolor": "white",
           "lakecolor": "white",
           "landcolor": "#E5ECF6",
           "showlakes": true,
           "showland": true,
           "subunitcolor": "white"
          },
          "hoverlabel": {
           "align": "left"
          },
          "hovermode": "closest",
          "mapbox": {
           "style": "light"
          },
          "paper_bgcolor": "white",
          "plot_bgcolor": "#E5ECF6",
          "polar": {
           "angularaxis": {
            "gridcolor": "white",
            "linecolor": "white",
            "ticks": ""
           },
           "bgcolor": "#E5ECF6",
           "radialaxis": {
            "gridcolor": "white",
            "linecolor": "white",
            "ticks": ""
           }
          },
          "scene": {
           "xaxis": {
            "backgroundcolor": "#E5ECF6",
            "gridcolor": "white",
            "gridwidth": 2,
            "linecolor": "white",
            "showbackground": true,
            "ticks": "",
            "zerolinecolor": "white"
           },
           "yaxis": {
            "backgroundcolor": "#E5ECF6",
            "gridcolor": "white",
            "gridwidth": 2,
            "linecolor": "white",
            "showbackground": true,
            "ticks": "",
            "zerolinecolor": "white"
           },
           "zaxis": {
            "backgroundcolor": "#E5ECF6",
            "gridcolor": "white",
            "gridwidth": 2,
            "linecolor": "white",
            "showbackground": true,
            "ticks": "",
            "zerolinecolor": "white"
           }
          },
          "shapedefaults": {
           "line": {
            "color": "#2a3f5f"
           }
          },
          "ternary": {
           "aaxis": {
            "gridcolor": "white",
            "linecolor": "white",
            "ticks": ""
           },
           "baxis": {
            "gridcolor": "white",
            "linecolor": "white",
            "ticks": ""
           },
           "bgcolor": "#E5ECF6",
           "caxis": {
            "gridcolor": "white",
            "linecolor": "white",
            "ticks": ""
           }
          },
          "title": {
           "x": 0.05
          },
          "xaxis": {
           "automargin": true,
           "gridcolor": "white",
           "linecolor": "white",
           "ticks": "",
           "title": {
            "standoff": 15
           },
           "zerolinecolor": "white",
           "zerolinewidth": 2
          },
          "yaxis": {
           "automargin": true,
           "gridcolor": "white",
           "linecolor": "white",
           "ticks": "",
           "title": {
            "standoff": 15
           },
           "zerolinecolor": "white",
           "zerolinewidth": 2
          }
         }
        },
        "title": {
         "text": "Antal studerande per år(2007_2024)"
        },
        "width": 800,
        "xaxis": {
         "anchor": "y",
         "domain": [
          0,
          1
         ],
         "linecolor": "lightgray",
         "linewidth": 3,
         "showline": true,
         "title": {
          "text": "<b>Antal studerande</b>"
         }
        },
        "yaxis": {
         "anchor": "x",
         "domain": [
          0,
          1
         ],
         "linecolor": "lightgray",
         "linewidth": 3,
         "showline": true,
         "title": {
          "text": "<b>År</b>"
         }
        }
       }
      }
     },
     "metadata": {},
     "output_type": "display_data"
    },
    {
     "name": "stderr",
     "output_type": "stream",
     "text": [
      "c:\\STI\\github\\projekt_skool\\yh_project_the_skool_group4\\.venv\\Lib\\site-packages\\gevent\\hub.py:161: UserWarning:\n",
      "\n",
      "libuv only supports millisecond timer resolution; all times less will be set to 1 ms\n",
      "\n"
     ]
    }
   ],
   "source": [
    "\n",
    "\n",
    "def create_indicator_bar(df, **options):\n",
    "    fig = px.bar(df, y=\"Year\", x=\"Value\", orientation=\"h\", color_discrete_sequence=[\"#A0C0BD\"], text=\"Value\",)\n",
    "    fig.update_layout(\n",
    "        title=\"Antal studerande per år(2007_2024)\",\n",
    "        \n",
    "        yaxis=dict(linecolor=\"lightgray\", linewidth=3, showline=True, title=dict(text=f\"<b>{options.get('xlabel')}</b>\")),\n",
    "        xaxis=dict(\n",
    "            title = dict(text=f\"<b>{options.get('ylabel')}</b>\"), linewidth=3, linecolor=\"lightgray\", showline=True),\n",
    "        height=600,\n",
    "        width=800, \n",
    "        plot_bgcolor=\"rgba(0,0,0,0)\" \n",
    "    \n",
    "    )\n",
    "    fig.add_annotation(\n",
    "        text=\"Källa: Statistiska centralbyrån (SCB)\",\n",
    "        xref=\"paper\",\n",
    "        yref=\"paper\",\n",
    "        x=0.5,\n",
    "        y=-0.14,\n",
    "        showarrow=False,\n",
    "        font=dict(size=10, color=\"gray\"),\n",
    "        align=\"center\",\n",
    "       \n",
    "    )\n",
    "\n",
    "    fig.update_traces(\n",
    "        texttemplate=\"%{x}\",\n",
    "        textposition=\"outside\",\n",
    "        marker=dict(line=dict(color=\"white\", width=1)),\n",
    "        hovertemplate=\"<b>%{x}</b> studerande<br>%{y}\",\n",
    "        textfont_size=10\n",
    "    )\n",
    "    return fig\n",
    "create_indicator_bar(df_antal_studerande , ylabel=\"Antal studerande\", xlabel=\"År\").show()"
   ]
  },
  {
   "cell_type": "code",
   "execution_count": 190,
   "id": "8c08acc3",
   "metadata": {},
   "outputs": [
    {
     "name": "stderr",
     "output_type": "stream",
     "text": [
      "C:\\Users\\mogha\\AppData\\Local\\Temp\\ipykernel_6440\\838539245.py:58: UserWarning:\n",
      "\n",
      "FigureCanvasAgg is non-interactive, and thus cannot be shown\n",
      "\n"
     ]
    },
    {
     "data": {
      "image/png": "[encoded data removed]",
      "text/plain": [
       "<Figure size 800x500 with 1 Axes>"
      ]
     },
     "metadata": {},
     "output_type": "display_data"
    },
    {
     "name": "stderr",
     "output_type": "stream",
     "text": [
      "c:\\STI\\github\\projekt_skool\\yh_project_the_skool_group4\\.venv\\Lib\\site-packages\\gevent\\hub.py:161: UserWarning:\n",
      "\n",
      "libuv only supports millisecond timer resolution; all times less will be set to 1 ms\n",
      "\n"
     ]
    }
   ],
   "source": [
    "import matplotlib.pyplot as plt\n",
    "from matplotlib.ticker import FuncFormatter\n",
    "\n",
    "\n",
    "def create_indicator_bar(df, **options):\n",
    "    fig, ax = plt.subplots(figsize=(8, 5))\n",
    "\n",
    "    # رسم نمودار میله‌ای افقی\n",
    "    bars = ax.barh(df[\"Year\"], df[\"Value\"], color=\"#A5B9E6\", edgecolor=\"white\")\n",
    "\n",
    "    # عنوان و برچسب محور‌ها\n",
    "    ax.set_title(\"Ökande efterfrågan på yrkesutbildning(En tydlig tillväxttrend i YH-studier 2007–2024)\", fontsize=13,loc=\"left\", fontweight=\"bold\", fontstyle=\"italic\")\n",
    "    ax.set_xlabel(options.get(\"ylabel\", \"Antal studerande\"), fontsize=11, fontstyle=\"italic\", labelpad=10)\n",
    "    ax.set_ylabel(options.get(\"xlabel\", \"År\"), fontsize=11, fontstyle=\"italic\")\n",
    "    ax.spines[[\"top\", \"right\"]].set_visible(False)  # حذف قاب بالا و راست\n",
    "    ax.spines[[\"left\", \"bottom\"]].set_linewidth(1.5)\n",
    "    ax.spines[[\"left\", \"bottom\"]].set_color(\"lightgray\") # ضخامت قاب چپ\n",
    "\n",
    "\n",
    "    # اضافه کردن فلش با arrowprops\n",
    "    ax.annotate(\"\", xy=(df[\"Value\"].iloc[-1], df[\"Year\"].iloc[-1]),      # نقطه مقصد فلش\n",
    "        xytext=(df[\"Value\"].iloc[0]+50, df[\"Year\"].iloc[0]),\n",
    "        textcoords='data',    # نقطه شروع فلش\n",
    "        arrowprops=dict(\n",
    "            arrowstyle=\"->\",\n",
    "            color=\"darkblue\",\n",
    "            lw=1.5,\n",
    "            connectionstyle=\"arc3,rad=-0.15\",\n",
    "             linestyle=\"dashed\" # برای انحنای ملایم\n",
    "        ),\n",
    "        fontsize=9,\n",
    "        color=\"gray\",\n",
    "        ha=\"left\",\n",
    "        va=\"center\"\n",
    "    )\n",
    "        # متن جداگانه کنار فلش\n",
    "    ax.text(\n",
    "        x=(df[\"Value\"].iloc[0] + df[\"Value\"].iloc[-1]) / 2.2,  # موقعیت X نسبی\n",
    "        y=(df[\"Year\"].iloc[0] + df[\"Year\"].iloc[-1]) / 2 - 0.009,         # موقعیت Y نسبی\n",
    "        s=\"Fler studerande\",\n",
    "        fontsize=10,\n",
    "        color=\"gray\",\n",
    "        rotation=40  # چرخش متن\n",
    "    )\n",
    "\n",
    "    # منبع پایین نمودار\n",
    "    plt.figtext(0.5, -0.05, \"Källa: Statistiska centralbyrån (SCB)\", ha=\"center\", fontsize=10, color=\"gray\")\n",
    "    ax.set_yticks(df[\"Year\"])\n",
    "    ax.set_yticklabels(df[\"Year\"].astype(int))\n",
    "    ax.tick_params(left=False, bottom=False)\n",
    "    ax.tick_params(axis='y', labelsize=9, labelcolor=\"gray\")\n",
    "    ax.tick_params(axis='x', labelsize=10, labelcolor=\"gray\")\n",
    "    formatter = FuncFormatter(lambda x, pos: f\"{int(x/1000)}K\")\n",
    "    ax.xaxis.set_major_formatter(formatter)\n",
    "    plt.tight_layout()\n",
    "    return fig\n",
    "\n",
    "create_indicator_bar(df_antal_studerande , ylabel=\"Antal studerande\", xlabel=\"År\").show()\n"
   ]
  }
 ],
 "metadata": {
  "kernelspec": {
   "display_name": ".venv",
   "language": "python",
   "name": "python3"
  },
  "language_info": {
   "codemirror_mode": {
    "name": "ipython",
    "version": 3
   },
   "file_extension": ".py",
   "mimetype": "text/x-python",
   "name": "python",
   "nbconvert_exporter": "python",
   "pygments_lexer": "ipython3",
   "version": "3.12.5"
  }
 },
 "nbformat": 4,
 "nbformat_minor": 5
}
