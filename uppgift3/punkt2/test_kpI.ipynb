import pandas as pd
from taipy.gui import Gui
import taipy.gui.builder as tgb
from pathlib import Path
import plotly.express as px

# Load and clean data
DATA_DIRECTORY = Path(__file__).parents[2] / "files"
df = pd.read_excel(DATA_DIRECTORY / "kön.xlsx", decimal=",")

# Select and clean 'Antal studerande' row
studerande_row = df[df["Unnamed: 0"] == "Antal studerande"].iloc[0, 1:]
studerande_clean = studerande_row.astype(str).str.replace(u'\xa0', '', regex=False).str.replace(' ', '').astype(int)
years = studerande_clean.index.tolist()
values = studerande_clean.values.tolist()

# Prepare data for plotly
plot_df = pd.DataFrame({
    "År": years,
    "Antal studerande": values
})

# Create bar chart
bar_fig = px.bar(plot_df, x="År", y="Antal studerande", title="Antal studerande över tid")

# Define page
with tgb.Page() as page:
    tgb.chart(bar_fig)

# Run GUI
Gui(page).run(dark_mode=False)
