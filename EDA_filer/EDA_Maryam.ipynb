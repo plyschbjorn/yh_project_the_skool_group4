{
 "cells": [
  {
   "cell_type": "markdown",
   "id": "0072addc",
   "metadata": {},
   "source": [
    "## Maryam EDA fil"
   ]
  },
  {
   "cell_type": "markdown",
   "id": "4585a795",
   "metadata": {},
   "source": [
    "read the excel file into my jupyter note book"
   ]
  },
  {
   "cell_type": "code",
   "execution_count": 3,
   "id": "eabef263",
   "metadata": {},
   "outputs": [
    {
     "data": {
      "text/html": [
       "<div>\n",
       "<style scoped>\n",
       "    .dataframe tbody tr th:only-of-type {\n",
       "        vertical-align: middle;\n",
       "    }\n",
       "\n",
       "    .dataframe tbody tr th {\n",
       "        vertical-align: top;\n",
       "    }\n",
       "\n",
       "    .dataframe thead th {\n",
       "        text-align: right;\n",
       "    }\n",
       "</style>\n",
       "<table border=\"1\" class=\"dataframe\">\n",
       "  <thead>\n",
       "    <tr style=\"text-align: right;\">\n",
       "      <th></th>\n",
       "      <th>Utbildningsområde</th>\n",
       "      <th>SUN5 inriktning</th>\n",
       "      <th>SUN5 inriktning namn</th>\n",
       "      <th>Utbildningsnamn</th>\n",
       "      <th>Beslut</th>\n",
       "      <th>Diarienummer</th>\n",
       "      <th>Flera kommuner</th>\n",
       "      <th>Antal kommuner</th>\n",
       "      <th>Län</th>\n",
       "      <th>Kommun</th>\n",
       "      <th>...</th>\n",
       "      <th>Sökta utbildningsomgångar</th>\n",
       "      <th>Beviljade utbildningsomgångar</th>\n",
       "      <th>Sökta platser per utbildningsomgång</th>\n",
       "      <th>Sökta platser totalt</th>\n",
       "      <th>Beviljade platser utbildningsomgång 1</th>\n",
       "      <th>Beviljade platser utbildningsomgång 2</th>\n",
       "      <th>Beviljade platser utbildningsomgång 3</th>\n",
       "      <th>Beviljade platser utbildningsomgång 4</th>\n",
       "      <th>Beviljade platser utbildningsomgång 5</th>\n",
       "      <th>Beviljade platser totalt</th>\n",
       "    </tr>\n",
       "  </thead>\n",
       "  <tbody>\n",
       "    <tr>\n",
       "      <th>0</th>\n",
       "      <td>Data/IT</td>\n",
       "      <td>481ab</td>\n",
       "      <td>Utbildningar till programmerare, spel</td>\n",
       "      <td>AI Programmer</td>\n",
       "      <td>Avslag</td>\n",
       "      <td>MYH 2024/3742</td>\n",
       "      <td>Nej</td>\n",
       "      <td>1</td>\n",
       "      <td>Västerbotten</td>\n",
       "      <td>Umeå</td>\n",
       "      <td>...</td>\n",
       "      <td>3</td>\n",
       "      <td>0</td>\n",
       "      <td>30</td>\n",
       "      <td>90</td>\n",
       "      <td>0</td>\n",
       "      <td>0</td>\n",
       "      <td>0</td>\n",
       "      <td>0</td>\n",
       "      <td>0</td>\n",
       "      <td>0</td>\n",
       "    </tr>\n",
       "    <tr>\n",
       "      <th>1</th>\n",
       "      <td>Data/IT</td>\n",
       "      <td>481ab</td>\n",
       "      <td>Utbildningar till programmerare, spel</td>\n",
       "      <td>Forsbergs, Spelutvecklare – Game Programming</td>\n",
       "      <td>Avslag</td>\n",
       "      <td>MYH 2024/4174</td>\n",
       "      <td>Nej</td>\n",
       "      <td>1</td>\n",
       "      <td>Stockholm</td>\n",
       "      <td>Stockholm</td>\n",
       "      <td>...</td>\n",
       "      <td>3</td>\n",
       "      <td>0</td>\n",
       "      <td>20</td>\n",
       "      <td>60</td>\n",
       "      <td>0</td>\n",
       "      <td>0</td>\n",
       "      <td>0</td>\n",
       "      <td>0</td>\n",
       "      <td>0</td>\n",
       "      <td>0</td>\n",
       "    </tr>\n",
       "    <tr>\n",
       "      <th>2</th>\n",
       "      <td>Data/IT</td>\n",
       "      <td>481ab</td>\n",
       "      <td>Utbildningar till programmerare, spel</td>\n",
       "      <td>Futuregames Game Programmer Specialization</td>\n",
       "      <td>Avslag</td>\n",
       "      <td>MYH 2024/3029</td>\n",
       "      <td>Ja</td>\n",
       "      <td>2</td>\n",
       "      <td>Flera kommuner</td>\n",
       "      <td>Flera kommuner</td>\n",
       "      <td>...</td>\n",
       "      <td>3</td>\n",
       "      <td>0</td>\n",
       "      <td>30</td>\n",
       "      <td>90</td>\n",
       "      <td>0</td>\n",
       "      <td>0</td>\n",
       "      <td>0</td>\n",
       "      <td>0</td>\n",
       "      <td>0</td>\n",
       "      <td>0</td>\n",
       "    </tr>\n",
       "    <tr>\n",
       "      <th>3</th>\n",
       "      <td>Data/IT</td>\n",
       "      <td>481ab</td>\n",
       "      <td>Utbildningar till programmerare, spel</td>\n",
       "      <td>Game Programmer</td>\n",
       "      <td>Avslag</td>\n",
       "      <td>MYH 2024/3425</td>\n",
       "      <td>Nej</td>\n",
       "      <td>1</td>\n",
       "      <td>Blekinge</td>\n",
       "      <td>Karlshamn</td>\n",
       "      <td>...</td>\n",
       "      <td>3</td>\n",
       "      <td>0</td>\n",
       "      <td>25</td>\n",
       "      <td>75</td>\n",
       "      <td>0</td>\n",
       "      <td>0</td>\n",
       "      <td>0</td>\n",
       "      <td>0</td>\n",
       "      <td>0</td>\n",
       "      <td>0</td>\n",
       "    </tr>\n",
       "    <tr>\n",
       "      <th>4</th>\n",
       "      <td>Data/IT</td>\n",
       "      <td>481ab</td>\n",
       "      <td>Utbildningar till programmerare, spel</td>\n",
       "      <td>Spelprogrammerare</td>\n",
       "      <td>Beviljad</td>\n",
       "      <td>MYH 2024/3852</td>\n",
       "      <td>Nej</td>\n",
       "      <td>1</td>\n",
       "      <td>Skåne</td>\n",
       "      <td>Malmö</td>\n",
       "      <td>...</td>\n",
       "      <td>4</td>\n",
       "      <td>3</td>\n",
       "      <td>35</td>\n",
       "      <td>140</td>\n",
       "      <td>35</td>\n",
       "      <td>35</td>\n",
       "      <td>35</td>\n",
       "      <td>0</td>\n",
       "      <td>0</td>\n",
       "      <td>105</td>\n",
       "    </tr>\n",
       "  </tbody>\n",
       "</table>\n",
       "<p>5 rows × 28 columns</p>\n",
       "</div>"
      ],
      "text/plain": [
       "  Utbildningsområde SUN5 inriktning                   SUN5 inriktning namn  \\\n",
       "0           Data/IT           481ab  Utbildningar till programmerare, spel   \n",
       "1           Data/IT           481ab  Utbildningar till programmerare, spel   \n",
       "2           Data/IT           481ab  Utbildningar till programmerare, spel   \n",
       "3           Data/IT           481ab  Utbildningar till programmerare, spel   \n",
       "4           Data/IT           481ab  Utbildningar till programmerare, spel   \n",
       "\n",
       "                                Utbildningsnamn    Beslut   Diarienummer  \\\n",
       "0                                 AI Programmer    Avslag  MYH 2024/3742   \n",
       "1  Forsbergs, Spelutvecklare – Game Programming    Avslag  MYH 2024/4174   \n",
       "2    Futuregames Game Programmer Specialization    Avslag  MYH 2024/3029   \n",
       "3                               Game Programmer    Avslag  MYH 2024/3425   \n",
       "4                             Spelprogrammerare  Beviljad  MYH 2024/3852   \n",
       "\n",
       "  Flera kommuner  Antal kommuner             Län          Kommun  ...  \\\n",
       "0            Nej               1    Västerbotten            Umeå  ...   \n",
       "1            Nej               1       Stockholm       Stockholm  ...   \n",
       "2             Ja               2  Flera kommuner  Flera kommuner  ...   \n",
       "3            Nej               1        Blekinge       Karlshamn  ...   \n",
       "4            Nej               1           Skåne           Malmö  ...   \n",
       "\n",
       "   Sökta utbildningsomgångar Beviljade utbildningsomgångar  \\\n",
       "0                          3                             0   \n",
       "1                          3                             0   \n",
       "2                          3                             0   \n",
       "3                          3                             0   \n",
       "4                          4                             3   \n",
       "\n",
       "   Sökta platser per utbildningsomgång Sökta platser totalt  \\\n",
       "0                                   30                   90   \n",
       "1                                   20                   60   \n",
       "2                                   30                   90   \n",
       "3                                   25                   75   \n",
       "4                                   35                  140   \n",
       "\n",
       "   Beviljade platser utbildningsomgång 1  \\\n",
       "0                                      0   \n",
       "1                                      0   \n",
       "2                                      0   \n",
       "3                                      0   \n",
       "4                                     35   \n",
       "\n",
       "  Beviljade platser utbildningsomgång 2 Beviljade platser utbildningsomgång 3  \\\n",
       "0                                     0                                     0   \n",
       "1                                     0                                     0   \n",
       "2                                     0                                     0   \n",
       "3                                     0                                     0   \n",
       "4                                    35                                    35   \n",
       "\n",
       "  Beviljade platser utbildningsomgång 4  \\\n",
       "0                                     0   \n",
       "1                                     0   \n",
       "2                                     0   \n",
       "3                                     0   \n",
       "4                                     0   \n",
       "\n",
       "   Beviljade platser utbildningsomgång 5  Beviljade platser totalt  \n",
       "0                                      0                         0  \n",
       "1                                      0                         0  \n",
       "2                                      0                         0  \n",
       "3                                      0                         0  \n",
       "4                                      0                       105  \n",
       "\n",
       "[5 rows x 28 columns]"
      ]
     },
     "execution_count": 3,
     "metadata": {},
     "output_type": "execute_result"
    }
   ],
   "source": [
    "import pandas as pd\n",
    "import plotly.express as px\n",
    "\n",
    "df = pd.read_excel(\"../../files/2024_tabell3.xlsx\", sheet_name=\"Tabell 3\", skiprows=5)\n",
    "df.head()"
   ]
  },
  {
   "cell_type": "markdown",
   "id": "d6b9e8e6",
   "metadata": {},
   "source": [
    "Hur många avslag och Hur många Beviljad fick vi i Data/IT Utbildning"
   ]
  },
  {
   "cell_type": "code",
   "execution_count": 4,
   "id": "bcdb8586",
   "metadata": {},
   "outputs": [
    {
     "data": {
      "text/plain": [
       "Beslut\n",
       "Avslag      247\n",
       "Beviljad     42\n",
       "Name: count, dtype: int64"
      ]
     },
     "execution_count": 4,
     "metadata": {},
     "output_type": "execute_result"
    }
   ],
   "source": [
    "df.query(\"Utbildningsområde == 'Data/IT'\")[\"Beslut\"].value_counts()"
   ]
  },
  {
   "cell_type": "markdown",
   "id": "4e65e841",
   "metadata": {},
   "source": [
    "Vilka utbildningar har vi i excel filen."
   ]
  },
  {
   "cell_type": "code",
   "execution_count": 5,
   "id": "5167092c",
   "metadata": {},
   "outputs": [
    {
     "data": {
      "text/plain": [
       "array(['Data/IT', 'Ekonomi, administration och försäljning',\n",
       "       'Friskvård och kroppsvård', 'Hotell, restaurang och turism',\n",
       "       'Hälso- och sjukvård samt socialt arbete',\n",
       "       'Journalistik och information', 'Juridik',\n",
       "       'Kultur, media och design',\n",
       "       'Lantbruk, djurvård, trädgård, skog och fiske',\n",
       "       'Pedagogik och undervisning', 'Samhällsbyggnad och byggteknik',\n",
       "       'Säkerhetstjänster', 'Teknik och tillverkning',\n",
       "       'Transporttjänster', 'Övrigt'], dtype=object)"
      ]
     },
     "execution_count": 5,
     "metadata": {},
     "output_type": "execute_result"
    }
   ],
   "source": [
    "df[\"Utbildningsområde\"].unique()"
   ]
  },
  {
   "cell_type": "markdown",
   "id": "31ac80fb",
   "metadata": {},
   "source": [
    "Hur många utbildningområde har vi?"
   ]
  },
  {
   "cell_type": "code",
   "execution_count": 6,
   "id": "4e17f520",
   "metadata": {},
   "outputs": [
    {
     "data": {
      "text/plain": [
       "Utbildningsområde\n",
       "Data/IT                                         289\n",
       "Ekonomi, administration och försäljning         261\n",
       "Teknik och tillverkning                         204\n",
       "Samhällsbyggnad och byggteknik                  185\n",
       "Hälso- och sjukvård samt socialt arbete         139\n",
       "Kultur, media och design                         54\n",
       "Lantbruk, djurvård, trädgård, skog och fiske     38\n",
       "Hotell, restaurang och turism                    34\n",
       "Säkerhetstjänster                                20\n",
       "Transporttjänster                                18\n",
       "Friskvård och kroppsvård                         10\n",
       "Journalistik och information                      7\n",
       "Pedagogik och undervisning                        6\n",
       "Juridik                                           5\n",
       "Övrigt                                            2\n",
       "Name: count, dtype: int64"
      ]
     },
     "execution_count": 6,
     "metadata": {},
     "output_type": "execute_result"
    }
   ],
   "source": [
    "len(df[\"Utbildningsområde\"].unique())\n",
    "df[\"Utbildningsområde\"].value_counts()\n"
   ]
  },
  {
   "cell_type": "code",
   "execution_count": 13,
   "id": "bfb84b4e",
   "metadata": {},
   "outputs": [
    {
     "data": {
      "application/vnd.plotly.v1+json": {
       "config": {
        "plotlyServerURL": "https://plot.ly"
       },
       "data": [
        {
         "alignmentgroup": "True",
         "hovertemplate": "Beviljad=Avslag<br>Utbildningsområde=%{x}<br>Antal=%{y}<extra></extra>",
         "legendgroup": "Avslag",
         "marker": {
          "color": "#2ca02c",
          "pattern": {
           "shape": ""
          }
         },
         "name": "Avslag",
         "offsetgroup": "Avslag",
         "orientation": "v",
         "showlegend": true,
         "textposition": "auto",
         "type": "bar",
         "x": [
          "Data/IT",
          "Ekonomi, administration och försäljning",
          "Friskvård och kroppsvård",
          "Hotell, restaurang och turism",
          "Hälso- och sjukvård samt socialt arbete",
          "Journalistik och information",
          "Juridik",
          "Kultur, media och design",
          "Lantbruk, djurvård, trädgård, skog och fiske",
          "Pedagogik och undervisning",
          "Samhällsbyggnad och byggteknik",
          "Säkerhetstjänster",
          "Teknik och tillverkning",
          "Transporttjänster",
          "Övrigt"
         ],
         "xaxis": "x",
         "y": {
          "bdata": "9wDPAAkAGgBVAAQABAAmABkAAwB8ABAAgQALAAAA",
          "dtype": "i2"
         },
         "yaxis": "y"
        },
        {
         "alignmentgroup": "True",
         "hovertemplate": "Beviljad=Beviljad<br>Utbildningsområde=%{x}<br>Antal=%{y}<extra></extra>",
         "legendgroup": "Beviljad",
         "marker": {
          "color": "#d62728",
          "pattern": {
           "shape": ""
          }
         },
         "name": "Beviljad",
         "offsetgroup": "Beviljad",
         "orientation": "v",
         "showlegend": true,
         "textposition": "auto",
         "type": "bar",
         "x": [
          "Data/IT",
          "Ekonomi, administration och försäljning",
          "Friskvård och kroppsvård",
          "Hotell, restaurang och turism",
          "Hälso- och sjukvård samt socialt arbete",
          "Journalistik och information",
          "Juridik",
          "Kultur, media och design",
          "Lantbruk, djurvård, trädgård, skog och fiske",
          "Pedagogik och undervisning",
          "Samhällsbyggnad och byggteknik",
          "Säkerhetstjänster",
          "Teknik och tillverkning",
          "Transporttjänster",
          "Övrigt"
         ],
         "xaxis": "x",
         "y": {
          "bdata": "KjYBCDYDARANAz0ESwcC",
          "dtype": "i1"
         },
         "yaxis": "y"
        }
       ],
       "layout": {
        "barmode": "group",
        "legend": {
         "title": {
          "text": "Beviljad"
         },
         "tracegroupgap": 0
        },
        "margin": {
         "t": 60
        },
        "plot_bgcolor": "white",
        "template": {
         "data": {
          "bar": [
           {
            "error_x": {
             "color": "#2a3f5f"
            },
            "error_y": {
             "color": "#2a3f5f"
            },
            "marker": {
             "line": {
              "color": "#E5ECF6",
              "width": 0.5
             },
             "pattern": {
              "fillmode": "overlay",
              "size": 10,
              "solidity": 0.2
             }
            },
            "type": "bar"
           }
          ],
          "barpolar": [
           {
            "marker": {
             "line": {
              "color": "#E5ECF6",
              "width": 0.5
             },
             "pattern": {
              "fillmode": "overlay",
              "size": 10,
              "solidity": 0.2
             }
            },
            "type": "barpolar"
           }
          ],
          "carpet": [
           {
            "aaxis": {
             "endlinecolor": "#2a3f5f",
             "gridcolor": "white",
             "linecolor": "white",
             "minorgridcolor": "white",
             "startlinecolor": "#2a3f5f"
            },
            "baxis": {
             "endlinecolor": "#2a3f5f",
             "gridcolor": "white",
             "linecolor": "white",
             "minorgridcolor": "white",
             "startlinecolor": "#2a3f5f"
            },
            "type": "carpet"
           }
          ],
          "choropleth": [
           {
            "colorbar": {
             "outlinewidth": 0,
             "ticks": ""
            },
            "type": "choropleth"
           }
          ],
          "contour": [
           {
            "colorbar": {
             "outlinewidth": 0,
             "ticks": ""
            },
            "colorscale": [
             [
              0,
              "#0d0887"
             ],
             [
              0.1111111111111111,
              "#46039f"
             ],
             [
              0.2222222222222222,
              "#7201a8"
             ],
             [
              0.3333333333333333,
              "#9c179e"
             ],
             [
              0.4444444444444444,
              "#bd3786"
             ],
             [
              0.5555555555555556,
              "#d8576b"
             ],
             [
              0.6666666666666666,
              "#ed7953"
             ],
             [
              0.7777777777777778,
              "#fb9f3a"
             ],
             [
              0.8888888888888888,
              "#fdca26"
             ],
             [
              1,
              "#f0f921"
             ]
            ],
            "type": "contour"
           }
          ],
          "contourcarpet": [
           {
            "colorbar": {
             "outlinewidth": 0,
             "ticks": ""
            },
            "type": "contourcarpet"
           }
          ],
          "heatmap": [
           {
            "colorbar": {
             "outlinewidth": 0,
             "ticks": ""
            },
            "colorscale": [
             [
              0,
              "#0d0887"
             ],
             [
              0.1111111111111111,
              "#46039f"
             ],
             [
              0.2222222222222222,
              "#7201a8"
             ],
             [
              0.3333333333333333,
              "#9c179e"
             ],
             [
              0.4444444444444444,
              "#bd3786"
             ],
             [
              0.5555555555555556,
              "#d8576b"
             ],
             [
              0.6666666666666666,
              "#ed7953"
             ],
             [
              0.7777777777777778,
              "#fb9f3a"
             ],
             [
              0.8888888888888888,
              "#fdca26"
             ],
             [
              1,
              "#f0f921"
             ]
            ],
            "type": "heatmap"
           }
          ],
          "histogram": [
           {
            "marker": {
             "pattern": {
              "fillmode": "overlay",
              "size": 10,
              "solidity": 0.2
             }
            },
            "type": "histogram"
           }
          ],
          "histogram2d": [
           {
            "colorbar": {
             "outlinewidth": 0,
             "ticks": ""
            },
            "colorscale": [
             [
              0,
              "#0d0887"
             ],
             [
              0.1111111111111111,
              "#46039f"
             ],
             [
              0.2222222222222222,
              "#7201a8"
             ],
             [
              0.3333333333333333,
              "#9c179e"
             ],
             [
              0.4444444444444444,
              "#bd3786"
             ],
             [
              0.5555555555555556,
              "#d8576b"
             ],
             [
              0.6666666666666666,
              "#ed7953"
             ],
             [
              0.7777777777777778,
              "#fb9f3a"
             ],
             [
              0.8888888888888888,
              "#fdca26"
             ],
             [
              1,
              "#f0f921"
             ]
            ],
            "type": "histogram2d"
           }
          ],
          "histogram2dcontour": [
           {
            "colorbar": {
             "outlinewidth": 0,
             "ticks": ""
            },
            "colorscale": [
             [
              0,
              "#0d0887"
             ],
             [
              0.1111111111111111,
              "#46039f"
             ],
             [
              0.2222222222222222,
              "#7201a8"
             ],
             [
              0.3333333333333333,
              "#9c179e"
             ],
             [
              0.4444444444444444,
              "#bd3786"
             ],
             [
              0.5555555555555556,
              "#d8576b"
             ],
             [
              0.6666666666666666,
              "#ed7953"
             ],
             [
              0.7777777777777778,
              "#fb9f3a"
             ],
             [
              0.8888888888888888,
              "#fdca26"
             ],
             [
              1,
              "#f0f921"
             ]
            ],
            "type": "histogram2dcontour"
           }
          ],
          "mesh3d": [
           {
            "colorbar": {
             "outlinewidth": 0,
             "ticks": ""
            },
            "type": "mesh3d"
           }
          ],
          "parcoords": [
           {
            "line": {
             "colorbar": {
              "outlinewidth": 0,
              "ticks": ""
             }
            },
            "type": "parcoords"
           }
          ],
          "pie": [
           {
            "automargin": true,
            "type": "pie"
           }
          ],
          "scatter": [
           {
            "fillpattern": {
             "fillmode": "overlay",
             "size": 10,
             "solidity": 0.2
            },
            "type": "scatter"
           }
          ],
          "scatter3d": [
           {
            "line": {
             "colorbar": {
              "outlinewidth": 0,
              "ticks": ""
             }
            },
            "marker": {
             "colorbar": {
              "outlinewidth": 0,
              "ticks": ""
             }
            },
            "type": "scatter3d"
           }
          ],
          "scattercarpet": [
           {
            "marker": {
             "colorbar": {
              "outlinewidth": 0,
              "ticks": ""
             }
            },
            "type": "scattercarpet"
           }
          ],
          "scattergeo": [
           {
            "marker": {
             "colorbar": {
              "outlinewidth": 0,
              "ticks": ""
             }
            },
            "type": "scattergeo"
           }
          ],
          "scattergl": [
           {
            "marker": {
             "colorbar": {
              "outlinewidth": 0,
              "ticks": ""
             }
            },
            "type": "scattergl"
           }
          ],
          "scattermap": [
           {
            "marker": {
             "colorbar": {
              "outlinewidth": 0,
              "ticks": ""
             }
            },
            "type": "scattermap"
           }
          ],
          "scattermapbox": [
           {
            "marker": {
             "colorbar": {
              "outlinewidth": 0,
              "ticks": ""
             }
            },
            "type": "scattermapbox"
           }
          ],
          "scatterpolar": [
           {
            "marker": {
             "colorbar": {
              "outlinewidth": 0,
              "ticks": ""
             }
            },
            "type": "scatterpolar"
           }
          ],
          "scatterpolargl": [
           {
            "marker": {
             "colorbar": {
              "outlinewidth": 0,
              "ticks": ""
             }
            },
            "type": "scatterpolargl"
           }
          ],
          "scatterternary": [
           {
            "marker": {
             "colorbar": {
              "outlinewidth": 0,
              "ticks": ""
             }
            },
            "type": "scatterternary"
           }
          ],
          "surface": [
           {
            "colorbar": {
             "outlinewidth": 0,
             "ticks": ""
            },
            "colorscale": [
             [
              0,
              "#0d0887"
             ],
             [
              0.1111111111111111,
              "#46039f"
             ],
             [
              0.2222222222222222,
              "#7201a8"
             ],
             [
              0.3333333333333333,
              "#9c179e"
             ],
             [
              0.4444444444444444,
              "#bd3786"
             ],
             [
              0.5555555555555556,
              "#d8576b"
             ],
             [
              0.6666666666666666,
              "#ed7953"
             ],
             [
              0.7777777777777778,
              "#fb9f3a"
             ],
             [
              0.8888888888888888,
              "#fdca26"
             ],
             [
              1,
              "#f0f921"
             ]
            ],
            "type": "surface"
           }
          ],
          "table": [
           {
            "cells": {
             "fill": {
              "color": "#EBF0F8"
             },
             "line": {
              "color": "white"
             }
            },
            "header": {
             "fill": {
              "color": "#C8D4E3"
             },
             "line": {
              "color": "white"
             }
            },
            "type": "table"
           }
          ]
         },
         "layout": {
          "annotationdefaults": {
           "arrowcolor": "#2a3f5f",
           "arrowhead": 0,
           "arrowwidth": 1
          },
          "autotypenumbers": "strict",
          "coloraxis": {
           "colorbar": {
            "outlinewidth": 0,
            "ticks": ""
           }
          },
          "colorscale": {
           "diverging": [
            [
             0,
             "#8e0152"
            ],
            [
             0.1,
             "#c51b7d"
            ],
            [
             0.2,
             "#de77ae"
            ],
            [
             0.3,
             "#f1b6da"
            ],
            [
             0.4,
             "#fde0ef"
            ],
            [
             0.5,
             "#f7f7f7"
            ],
            [
             0.6,
             "#e6f5d0"
            ],
            [
             0.7,
             "#b8e186"
            ],
            [
             0.8,
             "#7fbc41"
            ],
            [
             0.9,
             "#4d9221"
            ],
            [
             1,
             "#276419"
            ]
           ],
           "sequential": [
            [
             0,
             "#0d0887"
            ],
            [
             0.1111111111111111,
             "#46039f"
            ],
            [
             0.2222222222222222,
             "#7201a8"
            ],
            [
             0.3333333333333333,
             "#9c179e"
            ],
            [
             0.4444444444444444,
             "#bd3786"
            ],
            [
             0.5555555555555556,
             "#d8576b"
            ],
            [
             0.6666666666666666,
             "#ed7953"
            ],
            [
             0.7777777777777778,
             "#fb9f3a"
            ],
            [
             0.8888888888888888,
             "#fdca26"
            ],
            [
             1,
             "#f0f921"
            ]
           ],
           "sequentialminus": [
            [
             0,
             "#0d0887"
            ],
            [
             0.1111111111111111,
             "#46039f"
            ],
            [
             0.2222222222222222,
             "#7201a8"
            ],
            [
             0.3333333333333333,
             "#9c179e"
            ],
            [
             0.4444444444444444,
             "#bd3786"
            ],
            [
             0.5555555555555556,
             "#d8576b"
            ],
            [
             0.6666666666666666,
             "#ed7953"
            ],
            [
             0.7777777777777778,
             "#fb9f3a"
            ],
            [
             0.8888888888888888,
             "#fdca26"
            ],
            [
             1,
             "#f0f921"
            ]
           ]
          },
          "colorway": [
           "#636efa",
           "#EF553B",
           "#00cc96",
           "#ab63fa",
           "#FFA15A",
           "#19d3f3",
           "#FF6692",
           "#B6E880",
           "#FF97FF",
           "#FECB52"
          ],
          "font": {
           "color": "#2a3f5f"
          },
          "geo": {
           "bgcolor": "white",
           "lakecolor": "white",
           "landcolor": "#E5ECF6",
           "showlakes": true,
           "showland": true,
           "subunitcolor": "white"
          },
          "hoverlabel": {
           "align": "left"
          },
          "hovermode": "closest",
          "mapbox": {
           "style": "light"
          },
          "paper_bgcolor": "white",
          "plot_bgcolor": "#E5ECF6",
          "polar": {
           "angularaxis": {
            "gridcolor": "white",
            "linecolor": "white",
            "ticks": ""
           },
           "bgcolor": "#E5ECF6",
           "radialaxis": {
            "gridcolor": "white",
            "linecolor": "white",
            "ticks": ""
           }
          },
          "scene": {
           "xaxis": {
            "backgroundcolor": "#E5ECF6",
            "gridcolor": "white",
            "gridwidth": 2,
            "linecolor": "white",
            "showbackground": true,
            "ticks": "",
            "zerolinecolor": "white"
           },
           "yaxis": {
            "backgroundcolor": "#E5ECF6",
            "gridcolor": "white",
            "gridwidth": 2,
            "linecolor": "white",
            "showbackground": true,
            "ticks": "",
            "zerolinecolor": "white"
           },
           "zaxis": {
            "backgroundcolor": "#E5ECF6",
            "gridcolor": "white",
            "gridwidth": 2,
            "linecolor": "white",
            "showbackground": true,
            "ticks": "",
            "zerolinecolor": "white"
           }
          },
          "shapedefaults": {
           "line": {
            "color": "#2a3f5f"
           }
          },
          "ternary": {
           "aaxis": {
            "gridcolor": "white",
            "linecolor": "white",
            "ticks": ""
           },
           "baxis": {
            "gridcolor": "white",
            "linecolor": "white",
            "ticks": ""
           },
           "bgcolor": "#E5ECF6",
           "caxis": {
            "gridcolor": "white",
            "linecolor": "white",
            "ticks": ""
           }
          },
          "title": {
           "x": 0.05
          },
          "xaxis": {
           "automargin": true,
           "gridcolor": "white",
           "linecolor": "white",
           "ticks": "",
           "title": {
            "standoff": 15
           },
           "zerolinecolor": "white",
           "zerolinewidth": 2
          },
          "yaxis": {
           "automargin": true,
           "gridcolor": "white",
           "linecolor": "white",
           "ticks": "",
           "title": {
            "standoff": 15
           },
           "zerolinecolor": "white",
           "zerolinewidth": 2
          }
         }
        },
        "title": {
         "text": "Antal beslut per utbildningsområde"
        },
        "xaxis": {
         "anchor": "y",
         "domain": [
          0,
          1
         ],
         "linecolor": "lightgrey",
         "title": {
          "text": "Utbildningsområde"
         }
        },
        "yaxis": {
         "anchor": "x",
         "domain": [
          0,
          1
         ],
         "linecolor": "lightgrey",
         "title": {
          "text": "Antal beslut"
         }
        }
       }
      }
     },
     "metadata": {},
     "output_type": "display_data"
    }
   ],
   "source": [
    "result_df = df.groupby(\"Utbildningsområde\")[\"Beslut\"].value_counts().unstack(fill_value=0).reset_index()\n",
    "plot_df = result_df.melt(id_vars=\"Utbildningsområde\", var_name=\"Beviljad\", value_name=\"Antal\")\n",
    "import plotly.express as px\n",
    "\n",
    "def create_utbildnings_bar(data, **options):\n",
    "    fig = px.bar(\n",
    "        data,\n",
    "        x=\"Utbildningsområde\",\n",
    "        y=\"Antal\",\n",
    "        color=\"Beviljad\", \n",
    "        barmode=\"group\",  \n",
    "        color_discrete_sequence=[\"#2ca02c\", \"#d62728\"],  \n",
    "        **options\n",
    "    )\n",
    "    fig.update_layout(title=\"Antal beslut per utbildningsområde\", plot_bgcolor=\"white\",\n",
    "                      xaxis= dict(title=\"Utbildningsområde\", linecolor=\"lightgrey\"),\n",
    "                      yaxis= dict(title=\"Antal beslut\", linecolor=\"lightgrey\"))\n",
    "                      \n",
    "    return fig\n",
    "\n",
    "\n",
    "\n",
    "fig = create_utbildnings_bar(plot_df)\n",
    "fig.show()\n"
   ]
  }
 ],
 "metadata": {
  "kernelspec": {
   "display_name": ".venv",
   "language": "python",
   "name": "python3"
  },
  "language_info": {
   "codemirror_mode": {
    "name": "ipython",
    "version": 3
   },
   "file_extension": ".py",
   "mimetype": "text/x-python",
   "name": "python",
   "nbconvert_exporter": "python",
   "pygments_lexer": "ipython3",
   "version": "3.12.5"
  }
 },
 "nbformat": 4,
 "nbformat_minor": 5
}
