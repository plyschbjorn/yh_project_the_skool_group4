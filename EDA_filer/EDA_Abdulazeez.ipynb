{
 "cells": [
  {
   "cell_type": "code",
   "execution_count": 9,
   "id": "ee29e069",
   "metadata": {},
   "outputs": [
    {
     "name": "stdout",
     "output_type": "stream",
     "text": [
      "Välj utbildningsområde:\n",
      "1. Data/IT\n",
      "2. Ekonomi, administration och försäljning\n",
      "3. Friskvård och kroppsvård\n",
      "4. Hotell, restaurang och turism\n",
      "5. Hälso- och sjukvård samt socialt arbete\n",
      "6. Journalistik och information\n",
      "7. Juridik\n",
      "8. Kultur, media och design\n",
      "9. Lantbruk, djurvård, trädgård, skog och fiske\n",
      "10. Pedagogik och undervisning\n",
      "11. Samhällsbyggnad och byggteknik\n",
      "12. Säkerhetstjänster\n",
      "13. Teknik och tillverkning\n",
      "14. Transporttjänster\n",
      "\n",
      "Statsbidraget för utbildningen 'Data/IT' med 2 platser är: 139,800 kr\n"
     ]
    }
   ],
   "source": [
    "# Schablonbelopp per utbildningsområde\n",
    "schablonbelopp = {\n",
    "    'Data/IT': {'utan_moms': 69900, 'med_moms': 74100},\n",
    "    'Ekonomi, administration och försäljning': {'utan_moms': 62900, 'med_moms': 66600},\n",
    "    'Friskvård och kroppsvård': {'utan_moms': 74800, 'med_moms': 79200},\n",
    "    'Hotell, restaurang och turism': {'utan_moms': 64900, 'med_moms': 68700},\n",
    "    'Hälso- och sjukvård samt socialt arbete': {'utan_moms': 67000, 'med_moms': 71000},\n",
    "    'Journalistik och information': {'utan_moms': 66600, 'med_moms': 70600},\n",
    "    'Juridik': {'utan_moms': 60500, 'med_moms': 64100},\n",
    "    'Kultur, media och design': {'utan_moms': 84400, 'med_moms': 89400},\n",
    "    'Lantbruk, djurvård, trädgård, skog och fiske': {'utan_moms': 110200, 'med_moms': 116700},\n",
    "    'Pedagogik och undervisning': {'utan_moms': 71300, 'med_moms': 75500},\n",
    "    'Samhällsbyggnad och byggteknik': {'utan_moms': 70400, 'med_moms': 74600},\n",
    "    'Säkerhetstjänster': {'utan_moms': 63000, 'med_moms': 66800},\n",
    "    'Teknik och tillverkning': {'utan_moms': 85900, 'med_moms': 91000},\n",
    "    'Transporttjänster': {'utan_moms': 80400, 'med_moms': 85200},\n",
    "}\n",
    "\n",
    "# Funktion för att räkna ut statsbidrag\n",
    "def beräkna_statsbidrag(utbildningsområde, antal_platser, momskompensation):\n",
    "    if utbildningsområde not in schablonbelopp:\n",
    "        print(\"Utbildningsområdet finns inte i listan.\")\n",
    "        return 0\n",
    "    belopp_per_plats = schablonbelopp[utbildningsområde]['med_moms'] if momskompensation else schablonbelopp[utbildningsområde]['utan_moms']\n",
    "    return antal_platser * belopp_per_plats\n",
    "\n",
    "# Användargränssnitt\n",
    "print(\"Välj utbildningsområde:\")\n",
    "utbildningsområden = list(schablonbelopp.keys())\n",
    "for i, område in enumerate(utbildningsområden, 1):\n",
    "    print(f\"{i}. {område}\")\n",
    "\n",
    "try:\n",
    "    val = int(input(\"Ange nummer för utbildningsområde: \"))\n",
    "    if val < 1 or val > len(utbildningsområden):\n",
    "        print(\"Felaktigt val av utbildningsområde.\")\n",
    "    else:\n",
    "        utbildningsområde = utbildningsområden[val - 1]\n",
    "        antal_platser = int(input(\"Ange antal beviljade platser: \"))\n",
    "        moms_input = input(\"Är anordnaren berättigad till momskompensation? (ja/nej): \").strip().lower()\n",
    "        \n",
    "        if moms_input == 'ja':\n",
    "            momskompensation = True\n",
    "        elif moms_input == 'nej':\n",
    "            momskompensation = False\n",
    "        else:\n",
    "            print(\"Felaktigt svar för momskompensation. Antar 'nej'.\")\n",
    "            momskompensation = False\n",
    "\n",
    "        statsbidrag = beräkna_statsbidrag(utbildningsområde, antal_platser, momskompensation)\n",
    "        print(f\"\\nStatsbidraget för utbildningen '{utbildningsområde}' med {antal_platser} platser är: {statsbidrag:,} kr\")\n",
    "\n",
    "except ValueError:\n",
    "    print(\"Fel: Du måste skriva ett giltigt heltal.\")\n"
   ]
  },
  {
   "cell_type": "code",
   "execution_count": 6,
   "id": "cb0da80b",
   "metadata": {},
   "outputs": [
    {
     "name": "stdout",
     "output_type": "stream",
     "text": [
      "Välj ett utbildningsområde:\n",
      "1. Data/IT\n",
      "2. Ekonomi, administration och försäljning\n",
      "3. Friskvård och kroppsvård\n",
      "4. Hotell, restaurang och turism\n",
      "5. Hälso- och sjukvård samt socialt arbete\n",
      "6. Journalistik och information\n",
      "7. Juridik\n",
      "8. Kultur, media och design\n",
      "9. Lantbruk, djurvård, trädgård, skog och fiske\n",
      "10. Pedagogik och undervisning\n",
      "11. Samhällsbyggnad och byggteknik\n",
      "12. Säkerhetstjänster\n",
      "13. Teknik och tillverkning\n",
      "14. Transporttjänster\n",
      "\n",
      " Statistik för: Data/IT\n",
      "- Utan momskompensation: 69900\n",
      "- Med momskompensation: 74100\n"
     ]
    },
    {
     "data": {
      "image/png": "[encoded data removed]",
      "text/plain": [
       "<Figure size 640x480 with 1 Axes>"
      ]
     },
     "metadata": {},
     "output_type": "display_data"
    }
   ],
   "source": [
    "import pandas as pd\n",
    "import matplotlib.pyplot as plt\n",
    "\n",
    "df = pd.read_csv(r\"C:\\Users\\azizm\\Documents\\github\\yh_project_the_skool_group4\\EDA_filer\\Data\\statsbidrag_schablonnivåer.csv\")\n",
    "df.columns = df.columns.str.strip()\n",
    "\n",
    "anordnare_lista = sorted(df[\"Utbildningsområde\"].unique())\n",
    "print(\"Välj ett utbildningsområde:\")\n",
    "for i, namn in enumerate(anordnare_lista, 1):\n",
    "    print(f\"{i}. {namn}\")\n",
    "\n",
    "\n",
    "val = input(\"Ange nummer för utbildningsområde: \")\n",
    "\n",
    "try:\n",
    "    val = int(val)\n",
    "    if 1 <= val <= len(anordnare_lista):\n",
    "        vald = anordnare_lista[val - 1]\n",
    "        filtered = df[df[\"Utbildningsområde\"] == vald].iloc[0]\n",
    "\n",
    "        print(f\"\\n Statistik för: {vald}\")\n",
    "        print(f\"- Utan momskompensation: {filtered['Utan momskompensation']}\")\n",
    "        print(f\"- Med momskompensation: {filtered['Med momskompensation']}\")\n",
    "\n",
    "        \n",
    "        kategorier = ['Utan momskompensation', 'Med momskompensation']\n",
    "        värden = [filtered['Utan momskompensation'], filtered['Med momskompensation']]\n",
    "\n",
    "        plt.bar(kategorier, värden, color=['skyblue', 'lightgreen'])\n",
    "        plt.title(f\"Statsbidrag för {vald}\")\n",
    "        plt.ylabel(\"Belopp (kr)\")\n",
    "        plt.show()\n",
    "\n",
    "    else:\n",
    "        print(\"Ogiltigt val – numret är utanför listan.\")\n",
    "except ValueError:\n",
    "    print(\"Fel: Du måste ange ett nummer.\")\n"
   ]
  }
 ],
 "metadata": {
  "kernelspec": {
   "display_name": ".venv",
   "language": "python",
   "name": "python3"
  },
  "language_info": {
   "codemirror_mode": {
    "name": "ipython",
    "version": 3
   },
   "file_extension": ".py",
   "mimetype": "text/x-python",
   "name": "python",
   "nbconvert_exporter": "python",
   "pygments_lexer": "ipython3",
   "version": "3.13.2"
  }
 },
 "nbformat": 4,
 "nbformat_minor": 5
}
