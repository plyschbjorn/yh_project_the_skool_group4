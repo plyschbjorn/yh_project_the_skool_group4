{
 "cells": [
  {
   "cell_type": "markdown",
   "id": "0562914c",
   "metadata": {},
   "source": [
    "## Abdulazeez EDA fil "
   ]
  },
  {
   "cell_type": "markdown",
   "id": "c9726b2b",
   "metadata": {},
   "source": [
    "## Statsbidrag per utbildningsområde (med och utan moms)"
   ]
  },
  {
   "cell_type": "code",
   "execution_count": 44,
   "id": "cf764d93",
   "metadata": {},
   "outputs": [
    {
     "name": "stdout",
     "output_type": "stream",
     "text": [
      "Kolumner i CSV-filen:\n",
      " ['Utbildningsområde', 'Utan momskompensation', 'Med momskompensation']\n"
     ]
    }
   ],
   "source": [
    "import pandas as pd\n",
    "\n",
    "df_statsbidrag = pd.read_csv(\"data/statsbidrag_schablonnivåer.csv\", encoding=\"utf-8\")\n",
    "\n",
    "df_statsbidrag.columns = df_statsbidrag.columns.str.strip()\n",
    "\n",
    "print(\"Kolumner i CSV-filen:\\n\", df_statsbidrag.columns.tolist())\n"
   ]
  },
  {
   "cell_type": "code",
   "execution_count": null,
   "id": "901805e9",
   "metadata": {},
   "outputs": [
    {
     "name": "stdout",
     "output_type": "stream",
     "text": [
      "    id                             Utbildningsområde  Utan momskompensation  \\\n",
      "0    0                                       Data/IT                69900.0   \n",
      "1    1       Ekonomi, administration och försäljning                62900.0   \n",
      "2    2                      Friskvård och kroppsvård                74800.0   \n",
      "3    3                 Hotell, restaurang och turism                64900.0   \n",
      "4    4       Hälso- och sjukvård samt socialt arbete                67000.0   \n",
      "5    5                  Journalistik och information                66600.0   \n",
      "6    6                                       Juridik                60500.0   \n",
      "7    7                      Kultur, media och design                84400.0   \n",
      "8    8  Lantbruk, djurvård, trädgård, skog och fiske               110200.0   \n",
      "9    9                    Pedagogik och undervisning                71300.0   \n",
      "10  10                Samhällsbyggnad och byggteknik                70400.0   \n",
      "11  11                             Säkerhetstjänster                63000.0   \n",
      "12  12                       Teknik och tillverkning                85900.0   \n",
      "13  13                             Transporttjänster                80400.0   \n",
      "\n",
      "    Med momskompensation  \n",
      "0                74100.0  \n",
      "1                66600.0  \n",
      "2                79200.0  \n",
      "3                68700.0  \n",
      "4                71000.0  \n",
      "5                70600.0  \n",
      "6                64100.0  \n",
      "7                89400.0  \n",
      "8               116700.0  \n",
      "9                75500.0  \n",
      "10               74600.0  \n",
      "11               66800.0  \n",
      "12               91000.0  \n",
      "13               85200.0  \n"
     ]
    }
   ],
   "source": [
    "schablon_per_område = (\n",
    "    df_statsbidrag.groupby(\"Utbildningsområde\")[[\"Utan momskompensation\", \"Med momskompensation\"]]\n",
    "    .mean()\n",
    "    .reset_index()\n",
    "    .sort_values(\"Utbildningsområde\")\n",
    ")\n",
    "\n",
    "schablon_per_område.index.name = \"id\"\n",
    "schablon_per_område.reset_index(inplace=True)\n",
    "\n",
    "print(schablon_per_område)\n"
   ]
  },
  {
   "cell_type": "code",
   "execution_count": 35,
   "id": "8685d525",
   "metadata": {},
   "outputs": [
    {
     "data": {
      "application/vnd.plotly.v1+json": {
       "config": {
        "plotlyServerURL": "https://plot.ly"
       },
       "data": [
        {
         "name": "Utan momskompensation",
         "type": "bar",
         "x": [
          "Data/IT",
          "Ekonomi, administration och försäljning",
          "Friskvård och kroppsvård",
          "Hotell, restaurang och turism",
          "Hälso- och sjukvård samt socialt arbete",
          "Journalistik och information",
          "Juridik",
          "Kultur, media och design",
          "Lantbruk, djurvård, trädgård, skog och fiske",
          "Pedagogik och undervisning",
          "Samhällsbyggnad och byggteknik",
          "Säkerhetstjänster",
          "Teknik och tillverkning",
          "Transporttjänster"
         ],
         "y": {
          "bdata": "AAAAAMAQ8UAAAAAAgLbuQAAAAAAAQ/JAAAAAAICw70AAAAAAgFvwQAAAAACAQvBAAAAAAICK7UAAAAAAAJv0QAAAAACA5/pAAAAAAEBo8UAAAAAAADDxQAAAAAAAw+5AAAAAAMD49EAAAAAAAKHzQA==",
          "dtype": "f8"
         }
        },
        {
         "name": "Med momskompensation",
         "type": "bar",
         "x": [
          "Data/IT",
          "Ekonomi, administration och försäljning",
          "Friskvård och kroppsvård",
          "Hotell, restaurang och turism",
          "Hälso- och sjukvård samt socialt arbete",
          "Journalistik och information",
          "Juridik",
          "Kultur, media och design",
          "Lantbruk, djurvård, trädgård, skog och fiske",
          "Pedagogik och undervisning",
          "Samhällsbyggnad och byggteknik",
          "Säkerhetstjänster",
          "Teknik och tillverkning",
          "Transporttjänster"
         ],
         "y": {
          "bdata": "AAAAAEAX8kAAAAAAgELwQAAAAAAAVvNAAAAAAMDF8EAAAAAAgFXxQAAAAACAPPFAAAAAAIBM70AAAAAAgNP1QAAAAADAffxAAAAAAMBu8kAAAAAAgDbyQAAAAAAAT/BAAAAAAIA39kAAAAAAAM30QA==",
          "dtype": "f8"
         }
        }
       ],
       "layout": {
        "barmode": "group",
        "template": {
         "data": {
          "bar": [
           {
            "error_x": {
             "color": "#2a3f5f"
            },
            "error_y": {
             "color": "#2a3f5f"
            },
            "marker": {
             "line": {
              "color": "#E5ECF6",
              "width": 0.5
             },
             "pattern": {
              "fillmode": "overlay",
              "size": 10,
              "solidity": 0.2
             }
            },
            "type": "bar"
           }
          ],
          "barpolar": [
           {
            "marker": {
             "line": {
              "color": "#E5ECF6",
              "width": 0.5
             },
             "pattern": {
              "fillmode": "overlay",
              "size": 10,
              "solidity": 0.2
             }
            },
            "type": "barpolar"
           }
          ],
          "carpet": [
           {
            "aaxis": {
             "endlinecolor": "#2a3f5f",
             "gridcolor": "white",
             "linecolor": "white",
             "minorgridcolor": "white",
             "startlinecolor": "#2a3f5f"
            },
            "baxis": {
             "endlinecolor": "#2a3f5f",
             "gridcolor": "white",
             "linecolor": "white",
             "minorgridcolor": "white",
             "startlinecolor": "#2a3f5f"
            },
            "type": "carpet"
           }
          ],
          "choropleth": [
           {
            "colorbar": {
             "outlinewidth": 0,
             "ticks": ""
            },
            "type": "choropleth"
           }
          ],
          "contour": [
           {
            "colorbar": {
             "outlinewidth": 0,
             "ticks": ""
            },
            "colorscale": [
             [
              0,
              "#0d0887"
             ],
             [
              0.1111111111111111,
              "#46039f"
             ],
             [
              0.2222222222222222,
              "#7201a8"
             ],
             [
              0.3333333333333333,
              "#9c179e"
             ],
             [
              0.4444444444444444,
              "#bd3786"
             ],
             [
              0.5555555555555556,
              "#d8576b"
             ],
             [
              0.6666666666666666,
              "#ed7953"
             ],
             [
              0.7777777777777778,
              "#fb9f3a"
             ],
             [
              0.8888888888888888,
              "#fdca26"
             ],
             [
              1,
              "#f0f921"
             ]
            ],
            "type": "contour"
           }
          ],
          "contourcarpet": [
           {
            "colorbar": {
             "outlinewidth": 0,
             "ticks": ""
            },
            "type": "contourcarpet"
           }
          ],
          "heatmap": [
           {
            "colorbar": {
             "outlinewidth": 0,
             "ticks": ""
            },
            "colorscale": [
             [
              0,
              "#0d0887"
             ],
             [
              0.1111111111111111,
              "#46039f"
             ],
             [
              0.2222222222222222,
              "#7201a8"
             ],
             [
              0.3333333333333333,
              "#9c179e"
             ],
             [
              0.4444444444444444,
              "#bd3786"
             ],
             [
              0.5555555555555556,
              "#d8576b"
             ],
             [
              0.6666666666666666,
              "#ed7953"
             ],
             [
              0.7777777777777778,
              "#fb9f3a"
             ],
             [
              0.8888888888888888,
              "#fdca26"
             ],
             [
              1,
              "#f0f921"
             ]
            ],
            "type": "heatmap"
           }
          ],
          "histogram": [
           {
            "marker": {
             "pattern": {
              "fillmode": "overlay",
              "size": 10,
              "solidity": 0.2
             }
            },
            "type": "histogram"
           }
          ],
          "histogram2d": [
           {
            "colorbar": {
             "outlinewidth": 0,
             "ticks": ""
            },
            "colorscale": [
             [
              0,
              "#0d0887"
             ],
             [
              0.1111111111111111,
              "#46039f"
             ],
             [
              0.2222222222222222,
              "#7201a8"
             ],
             [
              0.3333333333333333,
              "#9c179e"
             ],
             [
              0.4444444444444444,
              "#bd3786"
             ],
             [
              0.5555555555555556,
              "#d8576b"
             ],
             [
              0.6666666666666666,
              "#ed7953"
             ],
             [
              0.7777777777777778,
              "#fb9f3a"
             ],
             [
              0.8888888888888888,
              "#fdca26"
             ],
             [
              1,
              "#f0f921"
             ]
            ],
            "type": "histogram2d"
           }
          ],
          "histogram2dcontour": [
           {
            "colorbar": {
             "outlinewidth": 0,
             "ticks": ""
            },
            "colorscale": [
             [
              0,
              "#0d0887"
             ],
             [
              0.1111111111111111,
              "#46039f"
             ],
             [
              0.2222222222222222,
              "#7201a8"
             ],
             [
              0.3333333333333333,
              "#9c179e"
             ],
             [
              0.4444444444444444,
              "#bd3786"
             ],
             [
              0.5555555555555556,
              "#d8576b"
             ],
             [
              0.6666666666666666,
              "#ed7953"
             ],
             [
              0.7777777777777778,
              "#fb9f3a"
             ],
             [
              0.8888888888888888,
              "#fdca26"
             ],
             [
              1,
              "#f0f921"
             ]
            ],
            "type": "histogram2dcontour"
           }
          ],
          "mesh3d": [
           {
            "colorbar": {
             "outlinewidth": 0,
             "ticks": ""
            },
            "type": "mesh3d"
           }
          ],
          "parcoords": [
           {
            "line": {
             "colorbar": {
              "outlinewidth": 0,
              "ticks": ""
             }
            },
            "type": "parcoords"
           }
          ],
          "pie": [
           {
            "automargin": true,
            "type": "pie"
           }
          ],
          "scatter": [
           {
            "fillpattern": {
             "fillmode": "overlay",
             "size": 10,
             "solidity": 0.2
            },
            "type": "scatter"
           }
          ],
          "scatter3d": [
           {
            "line": {
             "colorbar": {
              "outlinewidth": 0,
              "ticks": ""
             }
            },
            "marker": {
             "colorbar": {
              "outlinewidth": 0,
              "ticks": ""
             }
            },
            "type": "scatter3d"
           }
          ],
          "scattercarpet": [
           {
            "marker": {
             "colorbar": {
              "outlinewidth": 0,
              "ticks": ""
             }
            },
            "type": "scattercarpet"
           }
          ],
          "scattergeo": [
           {
            "marker": {
             "colorbar": {
              "outlinewidth": 0,
              "ticks": ""
             }
            },
            "type": "scattergeo"
           }
          ],
          "scattergl": [
           {
            "marker": {
             "colorbar": {
              "outlinewidth": 0,
              "ticks": ""
             }
            },
            "type": "scattergl"
           }
          ],
          "scattermap": [
           {
            "marker": {
             "colorbar": {
              "outlinewidth": 0,
              "ticks": ""
             }
            },
            "type": "scattermap"
           }
          ],
          "scattermapbox": [
           {
            "marker": {
             "colorbar": {
              "outlinewidth": 0,
              "ticks": ""
             }
            },
            "type": "scattermapbox"
           }
          ],
          "scatterpolar": [
           {
            "marker": {
             "colorbar": {
              "outlinewidth": 0,
              "ticks": ""
             }
            },
            "type": "scatterpolar"
           }
          ],
          "scatterpolargl": [
           {
            "marker": {
             "colorbar": {
              "outlinewidth": 0,
              "ticks": ""
             }
            },
            "type": "scatterpolargl"
           }
          ],
          "scatterternary": [
           {
            "marker": {
             "colorbar": {
              "outlinewidth": 0,
              "ticks": ""
             }
            },
            "type": "scatterternary"
           }
          ],
          "surface": [
           {
            "colorbar": {
             "outlinewidth": 0,
             "ticks": ""
            },
            "colorscale": [
             [
              0,
              "#0d0887"
             ],
             [
              0.1111111111111111,
              "#46039f"
             ],
             [
              0.2222222222222222,
              "#7201a8"
             ],
             [
              0.3333333333333333,
              "#9c179e"
             ],
             [
              0.4444444444444444,
              "#bd3786"
             ],
             [
              0.5555555555555556,
              "#d8576b"
             ],
             [
              0.6666666666666666,
              "#ed7953"
             ],
             [
              0.7777777777777778,
              "#fb9f3a"
             ],
             [
              0.8888888888888888,
              "#fdca26"
             ],
             [
              1,
              "#f0f921"
             ]
            ],
            "type": "surface"
           }
          ],
          "table": [
           {
            "cells": {
             "fill": {
              "color": "#EBF0F8"
             },
             "line": {
              "color": "white"
             }
            },
            "header": {
             "fill": {
              "color": "#C8D4E3"
             },
             "line": {
              "color": "white"
             }
            },
            "type": "table"
           }
          ]
         },
         "layout": {
          "annotationdefaults": {
           "arrowcolor": "#2a3f5f",
           "arrowhead": 0,
           "arrowwidth": 1
          },
          "autotypenumbers": "strict",
          "coloraxis": {
           "colorbar": {
            "outlinewidth": 0,
            "ticks": ""
           }
          },
          "colorscale": {
           "diverging": [
            [
             0,
             "#8e0152"
            ],
            [
             0.1,
             "#c51b7d"
            ],
            [
             0.2,
             "#de77ae"
            ],
            [
             0.3,
             "#f1b6da"
            ],
            [
             0.4,
             "#fde0ef"
            ],
            [
             0.5,
             "#f7f7f7"
            ],
            [
             0.6,
             "#e6f5d0"
            ],
            [
             0.7,
             "#b8e186"
            ],
            [
             0.8,
             "#7fbc41"
            ],
            [
             0.9,
             "#4d9221"
            ],
            [
             1,
             "#276419"
            ]
           ],
           "sequential": [
            [
             0,
             "#0d0887"
            ],
            [
             0.1111111111111111,
             "#46039f"
            ],
            [
             0.2222222222222222,
             "#7201a8"
            ],
            [
             0.3333333333333333,
             "#9c179e"
            ],
            [
             0.4444444444444444,
             "#bd3786"
            ],
            [
             0.5555555555555556,
             "#d8576b"
            ],
            [
             0.6666666666666666,
             "#ed7953"
            ],
            [
             0.7777777777777778,
             "#fb9f3a"
            ],
            [
             0.8888888888888888,
             "#fdca26"
            ],
            [
             1,
             "#f0f921"
            ]
           ],
           "sequentialminus": [
            [
             0,
             "#0d0887"
            ],
            [
             0.1111111111111111,
             "#46039f"
            ],
            [
             0.2222222222222222,
             "#7201a8"
            ],
            [
             0.3333333333333333,
             "#9c179e"
            ],
            [
             0.4444444444444444,
             "#bd3786"
            ],
            [
             0.5555555555555556,
             "#d8576b"
            ],
            [
             0.6666666666666666,
             "#ed7953"
            ],
            [
             0.7777777777777778,
             "#fb9f3a"
            ],
            [
             0.8888888888888888,
             "#fdca26"
            ],
            [
             1,
             "#f0f921"
            ]
           ]
          },
          "colorway": [
           "#636efa",
           "#EF553B",
           "#00cc96",
           "#ab63fa",
           "#FFA15A",
           "#19d3f3",
           "#FF6692",
           "#B6E880",
           "#FF97FF",
           "#FECB52"
          ],
          "font": {
           "color": "#2a3f5f"
          },
          "geo": {
           "bgcolor": "white",
           "lakecolor": "white",
           "landcolor": "#E5ECF6",
           "showlakes": true,
           "showland": true,
           "subunitcolor": "white"
          },
          "hoverlabel": {
           "align": "left"
          },
          "hovermode": "closest",
          "mapbox": {
           "style": "light"
          },
          "paper_bgcolor": "white",
          "plot_bgcolor": "#E5ECF6",
          "polar": {
           "angularaxis": {
            "gridcolor": "white",
            "linecolor": "white",
            "ticks": ""
           },
           "bgcolor": "#E5ECF6",
           "radialaxis": {
            "gridcolor": "white",
            "linecolor": "white",
            "ticks": ""
           }
          },
          "scene": {
           "xaxis": {
            "backgroundcolor": "#E5ECF6",
            "gridcolor": "white",
            "gridwidth": 2,
            "linecolor": "white",
            "showbackground": true,
            "ticks": "",
            "zerolinecolor": "white"
           },
           "yaxis": {
            "backgroundcolor": "#E5ECF6",
            "gridcolor": "white",
            "gridwidth": 2,
            "linecolor": "white",
            "showbackground": true,
            "ticks": "",
            "zerolinecolor": "white"
           },
           "zaxis": {
            "backgroundcolor": "#E5ECF6",
            "gridcolor": "white",
            "gridwidth": 2,
            "linecolor": "white",
            "showbackground": true,
            "ticks": "",
            "zerolinecolor": "white"
           }
          },
          "shapedefaults": {
           "line": {
            "color": "#2a3f5f"
           }
          },
          "ternary": {
           "aaxis": {
            "gridcolor": "white",
            "linecolor": "white",
            "ticks": ""
           },
           "baxis": {
            "gridcolor": "white",
            "linecolor": "white",
            "ticks": ""
           },
           "bgcolor": "#E5ECF6",
           "caxis": {
            "gridcolor": "white",
            "linecolor": "white",
            "ticks": ""
           }
          },
          "title": {
           "x": 0.05
          },
          "xaxis": {
           "automargin": true,
           "gridcolor": "white",
           "linecolor": "white",
           "ticks": "",
           "title": {
            "standoff": 15
           },
           "zerolinecolor": "white",
           "zerolinewidth": 2
          },
          "yaxis": {
           "automargin": true,
           "gridcolor": "white",
           "linecolor": "white",
           "ticks": "",
           "title": {
            "standoff": 15
           },
           "zerolinecolor": "white",
           "zerolinewidth": 2
          }
         }
        },
        "title": {
         "text": "Genomsnittligt schablonbelopp per utbildningsområde"
        },
        "xaxis": {
         "tickangle": -45,
         "title": {
          "text": "Utbildningsområde"
         }
        },
        "yaxis": {
         "title": {
          "text": "Schablonbelopp (kr)"
         }
        }
       }
      }
     },
     "metadata": {},
     "output_type": "display_data"
    }
   ],
   "source": [
    "import plotly.graph_objects as go\n",
    "\n",
    "fig = go.Figure()\n",
    "for col in [\"Utan momskompensation\", \"Med momskompensation\"]:\n",
    "    fig.add_trace(go.Bar(\n",
    "        x=schablon_per_område[\"Utbildningsområde\"],\n",
    "        y=schablon_per_område[col],\n",
    "        name=col\n",
    "    ))\n",
    "\n",
    "fig.update_layout(\n",
    "    title=\"Genomsnittligt schablonbelopp per utbildningsområde\",\n",
    "    barmode=\"group\",\n",
    "    xaxis_title=\"Utbildningsområde\",\n",
    "    yaxis_title=\"Schablonbelopp (kr)\",\n",
    "    xaxis_tickangle=-45\n",
    ")\n",
    "fig.show()\n"
   ]
  },
  {
   "cell_type": "code",
   "execution_count": 36,
   "id": "8815419d",
   "metadata": {},
   "outputs": [
    {
     "data": {
      "text/html": [
       "<div>\n",
       "<style scoped>\n",
       "    .dataframe tbody tr th:only-of-type {\n",
       "        vertical-align: middle;\n",
       "    }\n",
       "\n",
       "    .dataframe tbody tr th {\n",
       "        vertical-align: top;\n",
       "    }\n",
       "\n",
       "    .dataframe thead th {\n",
       "        text-align: right;\n",
       "    }\n",
       "</style>\n",
       "<table border=\"1\" class=\"dataframe\">\n",
       "  <thead>\n",
       "    <tr style=\"text-align: right;\">\n",
       "      <th></th>\n",
       "      <th>id_x</th>\n",
       "      <th>Utbildningsområde</th>\n",
       "      <th>Totalt antal beviljade platser</th>\n",
       "      <th>Antal beviljade platser start 2024</th>\n",
       "      <th>Antal beviljade platser start och slut 2024</th>\n",
       "      <th>Antal beviljade platser start 2025</th>\n",
       "      <th>id_y</th>\n",
       "      <th>Utan momskompensation</th>\n",
       "      <th>Med momskompensation</th>\n",
       "      <th>Totalt statsbidrag utan moms</th>\n",
       "      <th>Totalt statsbidrag med moms</th>\n",
       "    </tr>\n",
       "  </thead>\n",
       "  <tbody>\n",
       "    <tr>\n",
       "      <th>0</th>\n",
       "      <td>0</td>\n",
       "      <td>Data/IT</td>\n",
       "      <td>4159</td>\n",
       "      <td>1459</td>\n",
       "      <td>1276</td>\n",
       "      <td>1424</td>\n",
       "      <td>0</td>\n",
       "      <td>69900.0</td>\n",
       "      <td>74100.0</td>\n",
       "      <td>290714100.0</td>\n",
       "      <td>308181900.0</td>\n",
       "    </tr>\n",
       "    <tr>\n",
       "      <th>1</th>\n",
       "      <td>1</td>\n",
       "      <td>Ekonomi, administration och försäljning</td>\n",
       "      <td>7148</td>\n",
       "      <td>2822</td>\n",
       "      <td>1714</td>\n",
       "      <td>2612</td>\n",
       "      <td>1</td>\n",
       "      <td>62900.0</td>\n",
       "      <td>66600.0</td>\n",
       "      <td>449609200.0</td>\n",
       "      <td>476056800.0</td>\n",
       "    </tr>\n",
       "    <tr>\n",
       "      <th>2</th>\n",
       "      <td>2</td>\n",
       "      <td>Friskvård och kroppsvård</td>\n",
       "      <td>0</td>\n",
       "      <td>0</td>\n",
       "      <td>0</td>\n",
       "      <td>0</td>\n",
       "      <td>2</td>\n",
       "      <td>74800.0</td>\n",
       "      <td>79200.0</td>\n",
       "      <td>0.0</td>\n",
       "      <td>0.0</td>\n",
       "    </tr>\n",
       "    <tr>\n",
       "      <th>3</th>\n",
       "      <td>3</td>\n",
       "      <td>Hotell, restaurang och turism</td>\n",
       "      <td>586</td>\n",
       "      <td>132</td>\n",
       "      <td>322</td>\n",
       "      <td>132</td>\n",
       "      <td>3</td>\n",
       "      <td>64900.0</td>\n",
       "      <td>68700.0</td>\n",
       "      <td>38031400.0</td>\n",
       "      <td>40258200.0</td>\n",
       "    </tr>\n",
       "    <tr>\n",
       "      <th>4</th>\n",
       "      <td>4</td>\n",
       "      <td>Hälso- och sjukvård samt socialt arbete</td>\n",
       "      <td>3155</td>\n",
       "      <td>1140</td>\n",
       "      <td>940</td>\n",
       "      <td>1075</td>\n",
       "      <td>4</td>\n",
       "      <td>67000.0</td>\n",
       "      <td>71000.0</td>\n",
       "      <td>211385000.0</td>\n",
       "      <td>224005000.0</td>\n",
       "    </tr>\n",
       "  </tbody>\n",
       "</table>\n",
       "</div>"
      ],
      "text/plain": [
       "   id_x                        Utbildningsområde  \\\n",
       "0     0                                  Data/IT   \n",
       "1     1  Ekonomi, administration och försäljning   \n",
       "2     2                 Friskvård och kroppsvård   \n",
       "3     3            Hotell, restaurang och turism   \n",
       "4     4  Hälso- och sjukvård samt socialt arbete   \n",
       "\n",
       "   Totalt antal beviljade platser  Antal beviljade platser start 2024  \\\n",
       "0                            4159                                1459   \n",
       "1                            7148                                2822   \n",
       "2                               0                                   0   \n",
       "3                             586                                 132   \n",
       "4                            3155                                1140   \n",
       "\n",
       "   Antal beviljade platser start och slut 2024  \\\n",
       "0                                         1276   \n",
       "1                                         1714   \n",
       "2                                            0   \n",
       "3                                          322   \n",
       "4                                          940   \n",
       "\n",
       "   Antal beviljade platser start 2025  id_y  Utan momskompensation  \\\n",
       "0                                1424     0                69900.0   \n",
       "1                                2612     1                62900.0   \n",
       "2                                   0     2                74800.0   \n",
       "3                                 132     3                64900.0   \n",
       "4                                1075     4                67000.0   \n",
       "\n",
       "   Med momskompensation  Totalt statsbidrag utan moms  \\\n",
       "0               74100.0                   290714100.0   \n",
       "1               66600.0                   449609200.0   \n",
       "2               79200.0                           0.0   \n",
       "3               68700.0                    38031400.0   \n",
       "4               71000.0                   211385000.0   \n",
       "\n",
       "   Totalt statsbidrag med moms  \n",
       "0                  308181900.0  \n",
       "1                  476056800.0  \n",
       "2                          0.0  \n",
       "3                   40258200.0  \n",
       "4                  224005000.0  "
      ]
     },
     "execution_count": 36,
     "metadata": {},
     "output_type": "execute_result"
    }
   ],
   "source": [
    "statsbidrag_total = pd.merge(\n",
    "    beviljade,\n",
    "    schablon_per_område,\n",
    "    on=\"Utbildningsområde\",\n",
    "    how=\"left\"\n",
    ")\n",
    "\n",
    "statsbidrag_total[\"Totalt statsbidrag utan moms\"] = (\n",
    "    statsbidrag_total[\"Totalt antal beviljade platser\"] * statsbidrag_total[\"Utan momskompensation\"]\n",
    ")\n",
    "\n",
    "statsbidrag_total[\"Totalt statsbidrag med moms\"] = (\n",
    "    statsbidrag_total[\"Totalt antal beviljade platser\"] * statsbidrag_total[\"Med momskompensation\"]\n",
    ")\n",
    "\n",
    "statsbidrag_total.head()\n"
   ]
  },
  {
   "cell_type": "code",
   "execution_count": 37,
   "id": "ab751743",
   "metadata": {},
   "outputs": [
    {
     "data": {
      "application/vnd.plotly.v1+json": {
       "config": {
        "plotlyServerURL": "https://plot.ly"
       },
       "data": [
        {
         "hovertemplate": "Utbildningsområde=%{x}<br>Statsbidrag (kr)=%{y}<extra></extra>",
         "legendgroup": "Data/IT",
         "marker": {
          "color": "#636efa",
          "pattern": {
           "shape": ""
          }
         },
         "name": "Data/IT",
         "orientation": "v",
         "showlegend": true,
         "textposition": "auto",
         "type": "bar",
         "x": [
          "Data/IT"
         ],
         "xaxis": "x",
         "y": {
          "bdata": "AAAAjHteskE=",
          "dtype": "f8"
         },
         "yaxis": "y"
        },
        {
         "hovertemplate": "Utbildningsområde=%{x}<br>Statsbidrag (kr)=%{y}<extra></extra>",
         "legendgroup": "Ekonomi, administration och försäljning",
         "marker": {
          "color": "#EF553B",
          "pattern": {
           "shape": ""
          }
         },
         "name": "Ekonomi, administration och försäljning",
         "orientation": "v",
         "showlegend": true,
         "textposition": "auto",
         "type": "bar",
         "x": [
          "Ekonomi, administration och försäljning"
         ],
         "xaxis": "x",
         "y": {
          "bdata": "AAAA4AxgvEE=",
          "dtype": "f8"
         },
         "yaxis": "y"
        },
        {
         "hovertemplate": "Utbildningsområde=%{x}<br>Statsbidrag (kr)=%{y}<extra></extra>",
         "legendgroup": "Friskvård och kroppsvård",
         "marker": {
          "color": "#00cc96",
          "pattern": {
           "shape": ""
          }
         },
         "name": "Friskvård och kroppsvård",
         "orientation": "v",
         "showlegend": true,
         "textposition": "auto",
         "type": "bar",
         "x": [
          "Friskvård och kroppsvård"
         ],
         "xaxis": "x",
         "y": {
          "bdata": "AAAAAAAAAAA=",
          "dtype": "f8"
         },
         "yaxis": "y"
        },
        {
         "hovertemplate": "Utbildningsområde=%{x}<br>Statsbidrag (kr)=%{y}<extra></extra>",
         "legendgroup": "Hotell, restaurang och turism",
         "marker": {
          "color": "#ab63fa",
          "pattern": {
           "shape": ""
          }
         },
         "name": "Hotell, restaurang och turism",
         "orientation": "v",
         "showlegend": true,
         "textposition": "auto",
         "type": "bar",
         "x": [
          "Hotell, restaurang och turism"
         ],
         "xaxis": "x",
         "y": {
          "bdata": "AAAAwFQyg0E=",
          "dtype": "f8"
         },
         "yaxis": "y"
        },
        {
         "hovertemplate": "Utbildningsområde=%{x}<br>Statsbidrag (kr)=%{y}<extra></extra>",
         "legendgroup": "Hälso- och sjukvård samt socialt arbete",
         "marker": {
          "color": "#FFA15A",
          "pattern": {
           "shape": ""
          }
         },
         "name": "Hälso- och sjukvård samt socialt arbete",
         "orientation": "v",
         "showlegend": true,
         "textposition": "auto",
         "type": "bar",
         "x": [
          "Hälso- och sjukvård samt socialt arbete"
         ],
         "xaxis": "x",
         "y": {
          "bdata": "AAAAEBe0qkE=",
          "dtype": "f8"
         },
         "yaxis": "y"
        },
        {
         "hovertemplate": "Utbildningsområde=%{x}<br>Statsbidrag (kr)=%{y}<extra></extra>",
         "legendgroup": "Journalistik och information",
         "marker": {
          "color": "#19d3f3",
          "pattern": {
           "shape": ""
          }
         },
         "name": "Journalistik och information",
         "orientation": "v",
         "showlegend": true,
         "textposition": "auto",
         "type": "bar",
         "x": [
          "Journalistik och information"
         ],
         "xaxis": "x",
         "y": {
          "bdata": "AAAAgPQ5gEE=",
          "dtype": "f8"
         },
         "yaxis": "y"
        },
        {
         "hovertemplate": "Utbildningsområde=%{x}<br>Statsbidrag (kr)=%{y}<extra></extra>",
         "legendgroup": "Juridik",
         "marker": {
          "color": "#FF6692",
          "pattern": {
           "shape": ""
          }
         },
         "name": "Juridik",
         "orientation": "v",
         "showlegend": true,
         "textposition": "auto",
         "type": "bar",
         "x": [
          "Juridik"
         ],
         "xaxis": "x",
         "y": {
          "bdata": "AAAAgGWqf0E=",
          "dtype": "f8"
         },
         "yaxis": "y"
        },
        {
         "hovertemplate": "Utbildningsområde=%{x}<br>Statsbidrag (kr)=%{y}<extra></extra>",
         "legendgroup": "Kultur, media och design",
         "marker": {
          "color": "#B6E880",
          "pattern": {
           "shape": ""
          }
         },
         "name": "Kultur, media och design",
         "orientation": "v",
         "showlegend": true,
         "textposition": "auto",
         "type": "bar",
         "x": [
          "Kultur, media och design"
         ],
         "xaxis": "x",
         "y": {
          "bdata": "AAAAANqTeUE=",
          "dtype": "f8"
         },
         "yaxis": "y"
        },
        {
         "hovertemplate": "Utbildningsområde=%{x}<br>Statsbidrag (kr)=%{y}<extra></extra>",
         "legendgroup": "Lantbruk, djurvård, trädgård, skog och fiske",
         "marker": {
          "color": "#FF97FF",
          "pattern": {
           "shape": ""
          }
         },
         "name": "Lantbruk, djurvård, trädgård, skog och fiske",
         "orientation": "v",
         "showlegend": true,
         "textposition": "auto",
         "type": "bar",
         "x": [
          "Lantbruk, djurvård, trädgård, skog och fiske"
         ],
         "xaxis": "x",
         "y": {
          "bdata": "AAAAoLL8iUE=",
          "dtype": "f8"
         },
         "yaxis": "y"
        },
        {
         "hovertemplate": "Utbildningsområde=%{x}<br>Statsbidrag (kr)=%{y}<extra></extra>",
         "legendgroup": "Pedagogik och undervisning",
         "marker": {
          "color": "#FECB52",
          "pattern": {
           "shape": ""
          }
         },
         "name": "Pedagogik och undervisning",
         "orientation": "v",
         "showlegend": true,
         "textposition": "auto",
         "type": "bar",
         "x": [
          "Pedagogik och undervisning"
         ],
         "xaxis": "x",
         "y": {
          "bdata": "AAAAQAymgkE=",
          "dtype": "f8"
         },
         "yaxis": "y"
        },
        {
         "hovertemplate": "Utbildningsområde=%{x}<br>Statsbidrag (kr)=%{y}<extra></extra>",
         "legendgroup": "Samhällsbyggnad och byggteknik",
         "marker": {
          "color": "#636efa",
          "pattern": {
           "shape": ""
          }
         },
         "name": "Samhällsbyggnad och byggteknik",
         "orientation": "v",
         "showlegend": true,
         "textposition": "auto",
         "type": "bar",
         "x": [
          "Samhällsbyggnad och byggteknik"
         ],
         "xaxis": "x",
         "y": {
          "bdata": "AAAA4EKoq0E=",
          "dtype": "f8"
         },
         "yaxis": "y"
        },
        {
         "hovertemplate": "Utbildningsområde=%{x}<br>Statsbidrag (kr)=%{y}<extra></extra>",
         "legendgroup": "Säkerhetstjänster",
         "marker": {
          "color": "#EF553B",
          "pattern": {
           "shape": ""
          }
         },
         "name": "Säkerhetstjänster",
         "orientation": "v",
         "showlegend": true,
         "textposition": "auto",
         "type": "bar",
         "x": [
          "Säkerhetstjänster"
         ],
         "xaxis": "x",
         "y": {
          "bdata": "AAAAACcTe0E=",
          "dtype": "f8"
         },
         "yaxis": "y"
        },
        {
         "hovertemplate": "Utbildningsområde=%{x}<br>Statsbidrag (kr)=%{y}<extra></extra>",
         "legendgroup": "Teknik och tillverkning",
         "marker": {
          "color": "#00cc96",
          "pattern": {
           "shape": ""
          }
         },
         "name": "Teknik och tillverkning",
         "orientation": "v",
         "showlegend": true,
         "textposition": "auto",
         "type": "bar",
         "x": [
          "Teknik och tillverkning"
         ],
         "xaxis": "x",
         "y": {
          "bdata": "AAAAsDUysEE=",
          "dtype": "f8"
         },
         "yaxis": "y"
        },
        {
         "hovertemplate": "Utbildningsområde=%{x}<br>Statsbidrag (kr)=%{y}<extra></extra>",
         "legendgroup": "Transporttjänster",
         "marker": {
          "color": "#ab63fa",
          "pattern": {
           "shape": ""
          }
         },
         "name": "Transporttjänster",
         "orientation": "v",
         "showlegend": true,
         "textposition": "auto",
         "type": "bar",
         "x": [
          "Transporttjänster"
         ],
         "xaxis": "x",
         "y": {
          "bdata": "AAAAACoQYUE=",
          "dtype": "f8"
         },
         "yaxis": "y"
        }
       ],
       "layout": {
        "barmode": "relative",
        "legend": {
         "title": {
          "text": "Utbildningsområde"
         },
         "tracegroupgap": 0
        },
        "template": {
         "data": {
          "bar": [
           {
            "error_x": {
             "color": "#2a3f5f"
            },
            "error_y": {
             "color": "#2a3f5f"
            },
            "marker": {
             "line": {
              "color": "#E5ECF6",
              "width": 0.5
             },
             "pattern": {
              "fillmode": "overlay",
              "size": 10,
              "solidity": 0.2
             }
            },
            "type": "bar"
           }
          ],
          "barpolar": [
           {
            "marker": {
             "line": {
              "color": "#E5ECF6",
              "width": 0.5
             },
             "pattern": {
              "fillmode": "overlay",
              "size": 10,
              "solidity": 0.2
             }
            },
            "type": "barpolar"
           }
          ],
          "carpet": [
           {
            "aaxis": {
             "endlinecolor": "#2a3f5f",
             "gridcolor": "white",
             "linecolor": "white",
             "minorgridcolor": "white",
             "startlinecolor": "#2a3f5f"
            },
            "baxis": {
             "endlinecolor": "#2a3f5f",
             "gridcolor": "white",
             "linecolor": "white",
             "minorgridcolor": "white",
             "startlinecolor": "#2a3f5f"
            },
            "type": "carpet"
           }
          ],
          "choropleth": [
           {
            "colorbar": {
             "outlinewidth": 0,
             "ticks": ""
            },
            "type": "choropleth"
           }
          ],
          "contour": [
           {
            "colorbar": {
             "outlinewidth": 0,
             "ticks": ""
            },
            "colorscale": [
             [
              0,
              "#0d0887"
             ],
             [
              0.1111111111111111,
              "#46039f"
             ],
             [
              0.2222222222222222,
              "#7201a8"
             ],
             [
              0.3333333333333333,
              "#9c179e"
             ],
             [
              0.4444444444444444,
              "#bd3786"
             ],
             [
              0.5555555555555556,
              "#d8576b"
             ],
             [
              0.6666666666666666,
              "#ed7953"
             ],
             [
              0.7777777777777778,
              "#fb9f3a"
             ],
             [
              0.8888888888888888,
              "#fdca26"
             ],
             [
              1,
              "#f0f921"
             ]
            ],
            "type": "contour"
           }
          ],
          "contourcarpet": [
           {
            "colorbar": {
             "outlinewidth": 0,
             "ticks": ""
            },
            "type": "contourcarpet"
           }
          ],
          "heatmap": [
           {
            "colorbar": {
             "outlinewidth": 0,
             "ticks": ""
            },
            "colorscale": [
             [
              0,
              "#0d0887"
             ],
             [
              0.1111111111111111,
              "#46039f"
             ],
             [
              0.2222222222222222,
              "#7201a8"
             ],
             [
              0.3333333333333333,
              "#9c179e"
             ],
             [
              0.4444444444444444,
              "#bd3786"
             ],
             [
              0.5555555555555556,
              "#d8576b"
             ],
             [
              0.6666666666666666,
              "#ed7953"
             ],
             [
              0.7777777777777778,
              "#fb9f3a"
             ],
             [
              0.8888888888888888,
              "#fdca26"
             ],
             [
              1,
              "#f0f921"
             ]
            ],
            "type": "heatmap"
           }
          ],
          "histogram": [
           {
            "marker": {
             "pattern": {
              "fillmode": "overlay",
              "size": 10,
              "solidity": 0.2
             }
            },
            "type": "histogram"
           }
          ],
          "histogram2d": [
           {
            "colorbar": {
             "outlinewidth": 0,
             "ticks": ""
            },
            "colorscale": [
             [
              0,
              "#0d0887"
             ],
             [
              0.1111111111111111,
              "#46039f"
             ],
             [
              0.2222222222222222,
              "#7201a8"
             ],
             [
              0.3333333333333333,
              "#9c179e"
             ],
             [
              0.4444444444444444,
              "#bd3786"
             ],
             [
              0.5555555555555556,
              "#d8576b"
             ],
             [
              0.6666666666666666,
              "#ed7953"
             ],
             [
              0.7777777777777778,
              "#fb9f3a"
             ],
             [
              0.8888888888888888,
              "#fdca26"
             ],
             [
              1,
              "#f0f921"
             ]
            ],
            "type": "histogram2d"
           }
          ],
          "histogram2dcontour": [
           {
            "colorbar": {
             "outlinewidth": 0,
             "ticks": ""
            },
            "colorscale": [
             [
              0,
              "#0d0887"
             ],
             [
              0.1111111111111111,
              "#46039f"
             ],
             [
              0.2222222222222222,
              "#7201a8"
             ],
             [
              0.3333333333333333,
              "#9c179e"
             ],
             [
              0.4444444444444444,
              "#bd3786"
             ],
             [
              0.5555555555555556,
              "#d8576b"
             ],
             [
              0.6666666666666666,
              "#ed7953"
             ],
             [
              0.7777777777777778,
              "#fb9f3a"
             ],
             [
              0.8888888888888888,
              "#fdca26"
             ],
             [
              1,
              "#f0f921"
             ]
            ],
            "type": "histogram2dcontour"
           }
          ],
          "mesh3d": [
           {
            "colorbar": {
             "outlinewidth": 0,
             "ticks": ""
            },
            "type": "mesh3d"
           }
          ],
          "parcoords": [
           {
            "line": {
             "colorbar": {
              "outlinewidth": 0,
              "ticks": ""
             }
            },
            "type": "parcoords"
           }
          ],
          "pie": [
           {
            "automargin": true,
            "type": "pie"
           }
          ],
          "scatter": [
           {
            "fillpattern": {
             "fillmode": "overlay",
             "size": 10,
             "solidity": 0.2
            },
            "type": "scatter"
           }
          ],
          "scatter3d": [
           {
            "line": {
             "colorbar": {
              "outlinewidth": 0,
              "ticks": ""
             }
            },
            "marker": {
             "colorbar": {
              "outlinewidth": 0,
              "ticks": ""
             }
            },
            "type": "scatter3d"
           }
          ],
          "scattercarpet": [
           {
            "marker": {
             "colorbar": {
              "outlinewidth": 0,
              "ticks": ""
             }
            },
            "type": "scattercarpet"
           }
          ],
          "scattergeo": [
           {
            "marker": {
             "colorbar": {
              "outlinewidth": 0,
              "ticks": ""
             }
            },
            "type": "scattergeo"
           }
          ],
          "scattergl": [
           {
            "marker": {
             "colorbar": {
              "outlinewidth": 0,
              "ticks": ""
             }
            },
            "type": "scattergl"
           }
          ],
          "scattermap": [
           {
            "marker": {
             "colorbar": {
              "outlinewidth": 0,
              "ticks": ""
             }
            },
            "type": "scattermap"
           }
          ],
          "scattermapbox": [
           {
            "marker": {
             "colorbar": {
              "outlinewidth": 0,
              "ticks": ""
             }
            },
            "type": "scattermapbox"
           }
          ],
          "scatterpolar": [
           {
            "marker": {
             "colorbar": {
              "outlinewidth": 0,
              "ticks": ""
             }
            },
            "type": "scatterpolar"
           }
          ],
          "scatterpolargl": [
           {
            "marker": {
             "colorbar": {
              "outlinewidth": 0,
              "ticks": ""
             }
            },
            "type": "scatterpolargl"
           }
          ],
          "scatterternary": [
           {
            "marker": {
             "colorbar": {
              "outlinewidth": 0,
              "ticks": ""
             }
            },
            "type": "scatterternary"
           }
          ],
          "surface": [
           {
            "colorbar": {
             "outlinewidth": 0,
             "ticks": ""
            },
            "colorscale": [
             [
              0,
              "#0d0887"
             ],
             [
              0.1111111111111111,
              "#46039f"
             ],
             [
              0.2222222222222222,
              "#7201a8"
             ],
             [
              0.3333333333333333,
              "#9c179e"
             ],
             [
              0.4444444444444444,
              "#bd3786"
             ],
             [
              0.5555555555555556,
              "#d8576b"
             ],
             [
              0.6666666666666666,
              "#ed7953"
             ],
             [
              0.7777777777777778,
              "#fb9f3a"
             ],
             [
              0.8888888888888888,
              "#fdca26"
             ],
             [
              1,
              "#f0f921"
             ]
            ],
            "type": "surface"
           }
          ],
          "table": [
           {
            "cells": {
             "fill": {
              "color": "#EBF0F8"
             },
             "line": {
              "color": "white"
             }
            },
            "header": {
             "fill": {
              "color": "#C8D4E3"
             },
             "line": {
              "color": "white"
             }
            },
            "type": "table"
           }
          ]
         },
         "layout": {
          "annotationdefaults": {
           "arrowcolor": "#2a3f5f",
           "arrowhead": 0,
           "arrowwidth": 1
          },
          "autotypenumbers": "strict",
          "coloraxis": {
           "colorbar": {
            "outlinewidth": 0,
            "ticks": ""
           }
          },
          "colorscale": {
           "diverging": [
            [
             0,
             "#8e0152"
            ],
            [
             0.1,
             "#c51b7d"
            ],
            [
             0.2,
             "#de77ae"
            ],
            [
             0.3,
             "#f1b6da"
            ],
            [
             0.4,
             "#fde0ef"
            ],
            [
             0.5,
             "#f7f7f7"
            ],
            [
             0.6,
             "#e6f5d0"
            ],
            [
             0.7,
             "#b8e186"
            ],
            [
             0.8,
             "#7fbc41"
            ],
            [
             0.9,
             "#4d9221"
            ],
            [
             1,
             "#276419"
            ]
           ],
           "sequential": [
            [
             0,
             "#0d0887"
            ],
            [
             0.1111111111111111,
             "#46039f"
            ],
            [
             0.2222222222222222,
             "#7201a8"
            ],
            [
             0.3333333333333333,
             "#9c179e"
            ],
            [
             0.4444444444444444,
             "#bd3786"
            ],
            [
             0.5555555555555556,
             "#d8576b"
            ],
            [
             0.6666666666666666,
             "#ed7953"
            ],
            [
             0.7777777777777778,
             "#fb9f3a"
            ],
            [
             0.8888888888888888,
             "#fdca26"
            ],
            [
             1,
             "#f0f921"
            ]
           ],
           "sequentialminus": [
            [
             0,
             "#0d0887"
            ],
            [
             0.1111111111111111,
             "#46039f"
            ],
            [
             0.2222222222222222,
             "#7201a8"
            ],
            [
             0.3333333333333333,
             "#9c179e"
            ],
            [
             0.4444444444444444,
             "#bd3786"
            ],
            [
             0.5555555555555556,
             "#d8576b"
            ],
            [
             0.6666666666666666,
             "#ed7953"
            ],
            [
             0.7777777777777778,
             "#fb9f3a"
            ],
            [
             0.8888888888888888,
             "#fdca26"
            ],
            [
             1,
             "#f0f921"
            ]
           ]
          },
          "colorway": [
           "#636efa",
           "#EF553B",
           "#00cc96",
           "#ab63fa",
           "#FFA15A",
           "#19d3f3",
           "#FF6692",
           "#B6E880",
           "#FF97FF",
           "#FECB52"
          ],
          "font": {
           "color": "#2a3f5f"
          },
          "geo": {
           "bgcolor": "white",
           "lakecolor": "white",
           "landcolor": "#E5ECF6",
           "showlakes": true,
           "showland": true,
           "subunitcolor": "white"
          },
          "hoverlabel": {
           "align": "left"
          },
          "hovermode": "closest",
          "mapbox": {
           "style": "light"
          },
          "paper_bgcolor": "white",
          "plot_bgcolor": "#E5ECF6",
          "polar": {
           "angularaxis": {
            "gridcolor": "white",
            "linecolor": "white",
            "ticks": ""
           },
           "bgcolor": "#E5ECF6",
           "radialaxis": {
            "gridcolor": "white",
            "linecolor": "white",
            "ticks": ""
           }
          },
          "scene": {
           "xaxis": {
            "backgroundcolor": "#E5ECF6",
            "gridcolor": "white",
            "gridwidth": 2,
            "linecolor": "white",
            "showbackground": true,
            "ticks": "",
            "zerolinecolor": "white"
           },
           "yaxis": {
            "backgroundcolor": "#E5ECF6",
            "gridcolor": "white",
            "gridwidth": 2,
            "linecolor": "white",
            "showbackground": true,
            "ticks": "",
            "zerolinecolor": "white"
           },
           "zaxis": {
            "backgroundcolor": "#E5ECF6",
            "gridcolor": "white",
            "gridwidth": 2,
            "linecolor": "white",
            "showbackground": true,
            "ticks": "",
            "zerolinecolor": "white"
           }
          },
          "shapedefaults": {
           "line": {
            "color": "#2a3f5f"
           }
          },
          "ternary": {
           "aaxis": {
            "gridcolor": "white",
            "linecolor": "white",
            "ticks": ""
           },
           "baxis": {
            "gridcolor": "white",
            "linecolor": "white",
            "ticks": ""
           },
           "bgcolor": "#E5ECF6",
           "caxis": {
            "gridcolor": "white",
            "linecolor": "white",
            "ticks": ""
           }
          },
          "title": {
           "x": 0.05
          },
          "xaxis": {
           "automargin": true,
           "gridcolor": "white",
           "linecolor": "white",
           "ticks": "",
           "title": {
            "standoff": 15
           },
           "zerolinecolor": "white",
           "zerolinewidth": 2
          },
          "yaxis": {
           "automargin": true,
           "gridcolor": "white",
           "linecolor": "white",
           "ticks": "",
           "title": {
            "standoff": 15
           },
           "zerolinecolor": "white",
           "zerolinewidth": 2
          }
         }
        },
        "title": {
         "text": "Totalt statsbidrag per utbildningsområde (med moms)"
        },
        "xaxis": {
         "anchor": "y",
         "categoryarray": [
          "Data/IT",
          "Ekonomi, administration och försäljning",
          "Friskvård och kroppsvård",
          "Hotell, restaurang och turism",
          "Hälso- och sjukvård samt socialt arbete",
          "Journalistik och information",
          "Juridik",
          "Kultur, media och design",
          "Lantbruk, djurvård, trädgård, skog och fiske",
          "Pedagogik och undervisning",
          "Samhällsbyggnad och byggteknik",
          "Säkerhetstjänster",
          "Teknik och tillverkning",
          "Transporttjänster"
         ],
         "categoryorder": "array",
         "domain": [
          0,
          1
         ],
         "tickangle": -45,
         "title": {
          "text": "Utbildningsområde"
         }
        },
        "yaxis": {
         "anchor": "x",
         "domain": [
          0,
          1
         ],
         "title": {
          "text": "Statsbidrag (kr)"
         }
        }
       }
      }
     },
     "metadata": {},
     "output_type": "display_data"
    }
   ],
   "source": [
    "import plotly.express as px\n",
    "\n",
    "fig = px.bar(\n",
    "    statsbidrag_total,\n",
    "    x=\"Utbildningsområde\",\n",
    "    y=\"Totalt statsbidrag med moms\",\n",
    "    title=\"Totalt statsbidrag per utbildningsområde (med moms)\",\n",
    "    labels={\"Totalt statsbidrag med moms\": \"Statsbidrag (kr)\"},\n",
    "    color=\"Utbildningsområde\"\n",
    ")\n",
    "\n",
    "fig.update_layout(xaxis_tickangle=-45)\n",
    "fig.show()\n"
   ]
  },
  {
   "cell_type": "code",
   "execution_count": 38,
   "id": "ea70254c",
   "metadata": {},
   "outputs": [
    {
     "name": "stdout",
     "output_type": "stream",
     "text": [
      "Totalt statsbidrag utan moms: 1,677,555,100 kr\n",
      "Totalt statsbidrag med moms: 1,777,230,800 kr\n"
     ]
    }
   ],
   "source": [
    "total_utan_moms = statsbidrag_total[\"Totalt statsbidrag utan moms\"].sum()\n",
    "total_med_moms = statsbidrag_total[\"Totalt statsbidrag med moms\"].sum()\n",
    "\n",
    "print(f\"Totalt statsbidrag utan moms: {total_utan_moms:,.0f} kr\")\n",
    "print(f\"Totalt statsbidrag med moms: {total_med_moms:,.0f} kr\")\n"
   ]
  },
  {
   "cell_type": "code",
   "execution_count": 42,
   "id": "5ec9e26a",
   "metadata": {},
   "outputs": [
    {
     "data": {
      "text/html": [
       "<div>\n",
       "<style scoped>\n",
       "    .dataframe tbody tr th:only-of-type {\n",
       "        vertical-align: middle;\n",
       "    }\n",
       "\n",
       "    .dataframe tbody tr th {\n",
       "        vertical-align: top;\n",
       "    }\n",
       "\n",
       "    .dataframe thead th {\n",
       "        text-align: right;\n",
       "    }\n",
       "</style>\n",
       "<table border=\"1\" class=\"dataframe\">\n",
       "  <thead>\n",
       "    <tr style=\"text-align: right;\">\n",
       "      <th></th>\n",
       "      <th>Utbildningsområde</th>\n",
       "      <th>Beviljade platser</th>\n",
       "      <th>Schablonbelopp (med moms)</th>\n",
       "      <th>Totalt statsbidrag (med moms)</th>\n",
       "      <th>Statsbidrag per plats (kr)</th>\n",
       "      <th>Total ansökta platser</th>\n",
       "      <th>Beviljandegrad (%)</th>\n",
       "    </tr>\n",
       "  </thead>\n",
       "  <tbody>\n",
       "    <tr>\n",
       "      <th>0</th>\n",
       "      <td>Ekonomi, administration och försäljning</td>\n",
       "      <td>7148</td>\n",
       "      <td>66600.0</td>\n",
       "      <td>476056800.0</td>\n",
       "      <td>66600.0</td>\n",
       "      <td>16316</td>\n",
       "      <td>43.8</td>\n",
       "    </tr>\n",
       "    <tr>\n",
       "      <th>1</th>\n",
       "      <td>Data/IT</td>\n",
       "      <td>4159</td>\n",
       "      <td>74100.0</td>\n",
       "      <td>308181900.0</td>\n",
       "      <td>74100.0</td>\n",
       "      <td>18458</td>\n",
       "      <td>22.5</td>\n",
       "    </tr>\n",
       "    <tr>\n",
       "      <th>2</th>\n",
       "      <td>Teknik och tillverkning</td>\n",
       "      <td>2986</td>\n",
       "      <td>91000.0</td>\n",
       "      <td>271726000.0</td>\n",
       "      <td>91000.0</td>\n",
       "      <td>9427</td>\n",
       "      <td>31.7</td>\n",
       "    </tr>\n",
       "    <tr>\n",
       "      <th>3</th>\n",
       "      <td>Samhällsbyggnad och byggteknik</td>\n",
       "      <td>3110</td>\n",
       "      <td>74600.0</td>\n",
       "      <td>232006000.0</td>\n",
       "      <td>74600.0</td>\n",
       "      <td>9645</td>\n",
       "      <td>32.2</td>\n",
       "    </tr>\n",
       "    <tr>\n",
       "      <th>4</th>\n",
       "      <td>Hälso- och sjukvård samt socialt arbete</td>\n",
       "      <td>3155</td>\n",
       "      <td>71000.0</td>\n",
       "      <td>224005000.0</td>\n",
       "      <td>71000.0</td>\n",
       "      <td>11992</td>\n",
       "      <td>26.3</td>\n",
       "    </tr>\n",
       "    <tr>\n",
       "      <th>5</th>\n",
       "      <td>Lantbruk, djurvård, trädgård, skog och fiske</td>\n",
       "      <td>467</td>\n",
       "      <td>116700.0</td>\n",
       "      <td>54498900.0</td>\n",
       "      <td>116700.0</td>\n",
       "      <td>1875</td>\n",
       "      <td>24.9</td>\n",
       "    </tr>\n",
       "    <tr>\n",
       "      <th>6</th>\n",
       "      <td>Hotell, restaurang och turism</td>\n",
       "      <td>586</td>\n",
       "      <td>68700.0</td>\n",
       "      <td>40258200.0</td>\n",
       "      <td>68700.0</td>\n",
       "      <td>2656</td>\n",
       "      <td>22.1</td>\n",
       "    </tr>\n",
       "    <tr>\n",
       "      <th>7</th>\n",
       "      <td>Pedagogik och undervisning</td>\n",
       "      <td>518</td>\n",
       "      <td>75500.0</td>\n",
       "      <td>39109000.0</td>\n",
       "      <td>75500.0</td>\n",
       "      <td>1659</td>\n",
       "      <td>31.2</td>\n",
       "    </tr>\n",
       "    <tr>\n",
       "      <th>8</th>\n",
       "      <td>Journalistik och information</td>\n",
       "      <td>482</td>\n",
       "      <td>70600.0</td>\n",
       "      <td>34029200.0</td>\n",
       "      <td>70600.0</td>\n",
       "      <td>1020</td>\n",
       "      <td>47.3</td>\n",
       "    </tr>\n",
       "    <tr>\n",
       "      <th>9</th>\n",
       "      <td>Juridik</td>\n",
       "      <td>518</td>\n",
       "      <td>64100.0</td>\n",
       "      <td>33203800.0</td>\n",
       "      <td>64100.0</td>\n",
       "      <td>844</td>\n",
       "      <td>61.4</td>\n",
       "    </tr>\n",
       "    <tr>\n",
       "      <th>10</th>\n",
       "      <td>Säkerhetstjänster</td>\n",
       "      <td>425</td>\n",
       "      <td>66800.0</td>\n",
       "      <td>28390000.0</td>\n",
       "      <td>66800.0</td>\n",
       "      <td>1283</td>\n",
       "      <td>33.1</td>\n",
       "    </tr>\n",
       "    <tr>\n",
       "      <th>11</th>\n",
       "      <td>Kultur, media och design</td>\n",
       "      <td>300</td>\n",
       "      <td>89400.0</td>\n",
       "      <td>26820000.0</td>\n",
       "      <td>89400.0</td>\n",
       "      <td>3160</td>\n",
       "      <td>9.5</td>\n",
       "    </tr>\n",
       "    <tr>\n",
       "      <th>12</th>\n",
       "      <td>Transporttjänster</td>\n",
       "      <td>105</td>\n",
       "      <td>85200.0</td>\n",
       "      <td>8946000.0</td>\n",
       "      <td>85200.0</td>\n",
       "      <td>852</td>\n",
       "      <td>12.3</td>\n",
       "    </tr>\n",
       "    <tr>\n",
       "      <th>13</th>\n",
       "      <td>Friskvård och kroppsvård</td>\n",
       "      <td>0</td>\n",
       "      <td>79200.0</td>\n",
       "      <td>0.0</td>\n",
       "      <td>NaN</td>\n",
       "      <td>342</td>\n",
       "      <td>0.0</td>\n",
       "    </tr>\n",
       "  </tbody>\n",
       "</table>\n",
       "</div>"
      ],
      "text/plain": [
       "                               Utbildningsområde  Beviljade platser  \\\n",
       "0        Ekonomi, administration och försäljning               7148   \n",
       "1                                        Data/IT               4159   \n",
       "2                        Teknik och tillverkning               2986   \n",
       "3                 Samhällsbyggnad och byggteknik               3110   \n",
       "4        Hälso- och sjukvård samt socialt arbete               3155   \n",
       "5   Lantbruk, djurvård, trädgård, skog och fiske                467   \n",
       "6                  Hotell, restaurang och turism                586   \n",
       "7                     Pedagogik och undervisning                518   \n",
       "8                   Journalistik och information                482   \n",
       "9                                        Juridik                518   \n",
       "10                             Säkerhetstjänster                425   \n",
       "11                      Kultur, media och design                300   \n",
       "12                             Transporttjänster                105   \n",
       "13                      Friskvård och kroppsvård                  0   \n",
       "\n",
       "    Schablonbelopp (med moms)  Totalt statsbidrag (med moms)  \\\n",
       "0                     66600.0                    476056800.0   \n",
       "1                     74100.0                    308181900.0   \n",
       "2                     91000.0                    271726000.0   \n",
       "3                     74600.0                    232006000.0   \n",
       "4                     71000.0                    224005000.0   \n",
       "5                    116700.0                     54498900.0   \n",
       "6                     68700.0                     40258200.0   \n",
       "7                     75500.0                     39109000.0   \n",
       "8                     70600.0                     34029200.0   \n",
       "9                     64100.0                     33203800.0   \n",
       "10                    66800.0                     28390000.0   \n",
       "11                    89400.0                     26820000.0   \n",
       "12                    85200.0                      8946000.0   \n",
       "13                    79200.0                            0.0   \n",
       "\n",
       "    Statsbidrag per plats (kr)  Total ansökta platser  Beviljandegrad (%)  \n",
       "0                      66600.0                  16316                43.8  \n",
       "1                      74100.0                  18458                22.5  \n",
       "2                      91000.0                   9427                31.7  \n",
       "3                      74600.0                   9645                32.2  \n",
       "4                      71000.0                  11992                26.3  \n",
       "5                     116700.0                   1875                24.9  \n",
       "6                      68700.0                   2656                22.1  \n",
       "7                      75500.0                   1659                31.2  \n",
       "8                      70600.0                   1020                47.3  \n",
       "9                      64100.0                    844                61.4  \n",
       "10                     66800.0                   1283                33.1  \n",
       "11                     89400.0                   3160                 9.5  \n",
       "12                     85200.0                    852                12.3  \n",
       "13                         NaN                    342                 0.0  "
      ]
     },
     "execution_count": 42,
     "metadata": {},
     "output_type": "execute_result"
    }
   ],
   "source": [
    "kpi_full = pd.merge(\n",
    "    kpi,\n",
    "    ansökta_platser_utbildningsområde[[\"Sökt utbildningsområde\", \"Total ansökta platser\"]],\n",
    "    left_on=\"Utbildningsområde\",\n",
    "    right_on=\"Sökt utbildningsområde\",\n",
    "    how=\"left\"\n",
    ")\n",
    "\n",
    "\n",
    "kpi_full[\"Beviljandegrad (%)\"] = (\n",
    "    kpi_full[\"Beviljade platser\"] / kpi_full[\"Total ansökta platser\"] * 100\n",
    ").round(1)\n",
    "\n",
    "\n",
    "kpi_full.drop(columns=[\"Sökt utbildningsområde\"], inplace=True)\n",
    "\n",
    "\n",
    "kpi_full = kpi_full.sort_values(\"Totalt statsbidrag (med moms)\", ascending=False)\n",
    "\n",
    "\n",
    "kpi_full.reset_index(drop=True, inplace=True)\n",
    "kpi_full\n"
   ]
  }
 ],
 "metadata": {
  "kernelspec": {
   "display_name": ".venv",
   "language": "python",
   "name": "python3"
  },
  "language_info": {
   "codemirror_mode": {
    "name": "ipython",
    "version": 3
   },
   "file_extension": ".py",
   "mimetype": "text/x-python",
   "name": "python",
   "nbconvert_exporter": "python",
   "pygments_lexer": "ipython3",
   "version": "3.13.2"
  }
 },
 "nbformat": 4,
 "nbformat_minor": 5
}
