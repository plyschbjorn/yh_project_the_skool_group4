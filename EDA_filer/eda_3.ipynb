{
 "cells": [
  {
   "cell_type": "markdown",
   "id": "236936d6",
   "metadata": {},
   "source": [
    "# `EDA of statsbidrag och schablonnivåer`"
   ]
  },
  {
   "cell_type": "code",
   "execution_count": 1,
   "id": "182cd975",
   "metadata": {},
   "outputs": [
    {
     "data": {
      "text/plain": [
       "(1, list)"
      ]
     },
     "execution_count": 1,
     "metadata": {},
     "output_type": "execute_result"
    }
   ],
   "source": [
    "import pandas as pd\n",
    "\n",
    "df_list = pd.read_html(\"https://www.myh.se/yrkeshogskolan/ansok-om-att-bedriva-utbildning/ansokan-kurser/statsbidrag-och-schablonnivaer\")\n",
    "len(df_list), type(df_list)"
   ]
  },
  {
   "cell_type": "code",
   "execution_count": 3,
   "id": "aba17005",
   "metadata": {},
   "outputs": [
    {
     "name": "stderr",
     "output_type": "stream",
     "text": [
      "/var/folders/dq/nhm12bdx0t384gzpkvsf7nf80000gn/T/ipykernel_61961/2750720307.py:8: FutureWarning: Passing literal html to 'read_html' is deprecated and will be removed in a future version. To read from a literal string, wrap it in a 'StringIO' object.\n",
      "  df_list = pd.read_html(response.text)\n"
     ]
    }
   ],
   "source": [
    "import requests\n",
    "\n",
    "url = \"https://www.myh.se/yrkeshogskolan/ansok-om-att-bedriva-utbildning/ansokan-kurser/statsbidrag-och-schablonnivaer\"\n",
    "\n",
    "response = requests.get(url)\n",
    "response.encoding = 'utf-8'  # rätt teckenkodning för svenska tecken\n",
    "\n",
    "df_list = pd.read_html(response.text)"
   ]
  },
  {
   "cell_type": "code",
   "execution_count": 4,
   "id": "3d6949e4",
   "metadata": {},
   "outputs": [],
   "source": [
    "from io import StringIO  # <- detta krävs\n",
    "\n",
    "# Konvertera strängen till en \"fil-lik\" objekt\n",
    "html_content = StringIO(response.text)\n",
    "\n",
    "# Läs tabeller\n",
    "df_list = pd.read_html(html_content)\n",
    "df = df_list[0]"
   ]
  },
  {
   "cell_type": "code",
   "execution_count": 5,
   "id": "790106be",
   "metadata": {},
   "outputs": [
    {
     "data": {
      "text/html": [
       "<div>\n",
       "<style scoped>\n",
       "    .dataframe tbody tr th:only-of-type {\n",
       "        vertical-align: middle;\n",
       "    }\n",
       "\n",
       "    .dataframe tbody tr th {\n",
       "        vertical-align: top;\n",
       "    }\n",
       "\n",
       "    .dataframe thead th {\n",
       "        text-align: right;\n",
       "    }\n",
       "</style>\n",
       "<table border=\"1\" class=\"dataframe\">\n",
       "  <thead>\n",
       "    <tr style=\"text-align: right;\">\n",
       "      <th></th>\n",
       "      <th>Utbildningsområde</th>\n",
       "      <th>Utan momskompensation</th>\n",
       "      <th>Med momskompensation</th>\n",
       "    </tr>\n",
       "  </thead>\n",
       "  <tbody>\n",
       "    <tr>\n",
       "      <th>0</th>\n",
       "      <td>Data/IT</td>\n",
       "      <td>69 900</td>\n",
       "      <td>74 100</td>\n",
       "    </tr>\n",
       "    <tr>\n",
       "      <th>1</th>\n",
       "      <td>Ekonomi, administration och försäljning</td>\n",
       "      <td>62 900</td>\n",
       "      <td>66 600</td>\n",
       "    </tr>\n",
       "    <tr>\n",
       "      <th>2</th>\n",
       "      <td>Friskvård och kroppsvård</td>\n",
       "      <td>74 800</td>\n",
       "      <td>79 200</td>\n",
       "    </tr>\n",
       "    <tr>\n",
       "      <th>3</th>\n",
       "      <td>Hotell, restaurang och turism</td>\n",
       "      <td>64 900</td>\n",
       "      <td>68 700</td>\n",
       "    </tr>\n",
       "    <tr>\n",
       "      <th>4</th>\n",
       "      <td>Hälso- och sjukvård samt socialt arbete</td>\n",
       "      <td>67 000</td>\n",
       "      <td>71 000</td>\n",
       "    </tr>\n",
       "    <tr>\n",
       "      <th>5</th>\n",
       "      <td>Journalistik och information</td>\n",
       "      <td>66 600</td>\n",
       "      <td>70 600</td>\n",
       "    </tr>\n",
       "    <tr>\n",
       "      <th>6</th>\n",
       "      <td>Juridik</td>\n",
       "      <td>60 500</td>\n",
       "      <td>64 100</td>\n",
       "    </tr>\n",
       "    <tr>\n",
       "      <th>7</th>\n",
       "      <td>Kultur, media och design</td>\n",
       "      <td>84 400</td>\n",
       "      <td>89 400</td>\n",
       "    </tr>\n",
       "    <tr>\n",
       "      <th>8</th>\n",
       "      <td>Lantbruk, djurvård, trädgård, skog och fiske</td>\n",
       "      <td>110 200</td>\n",
       "      <td>116 700</td>\n",
       "    </tr>\n",
       "    <tr>\n",
       "      <th>9</th>\n",
       "      <td>Pedagogik och undervisning</td>\n",
       "      <td>71 300</td>\n",
       "      <td>75 500</td>\n",
       "    </tr>\n",
       "    <tr>\n",
       "      <th>10</th>\n",
       "      <td>Samhällsbyggnad och byggteknik</td>\n",
       "      <td>70 400</td>\n",
       "      <td>74 600</td>\n",
       "    </tr>\n",
       "    <tr>\n",
       "      <th>11</th>\n",
       "      <td>Säkerhetstjänster</td>\n",
       "      <td>63 000</td>\n",
       "      <td>66 800</td>\n",
       "    </tr>\n",
       "    <tr>\n",
       "      <th>12</th>\n",
       "      <td>Teknik och tillverkning</td>\n",
       "      <td>85 900</td>\n",
       "      <td>91 000</td>\n",
       "    </tr>\n",
       "    <tr>\n",
       "      <th>13</th>\n",
       "      <td>Transporttjänster</td>\n",
       "      <td>80 400</td>\n",
       "      <td>85 200</td>\n",
       "    </tr>\n",
       "  </tbody>\n",
       "</table>\n",
       "</div>"
      ],
      "text/plain": [
       "                               Utbildningsområde Utan momskompensation  \\\n",
       "0                                        Data/IT                69 900   \n",
       "1        Ekonomi, administration och försäljning                62 900   \n",
       "2                       Friskvård och kroppsvård                74 800   \n",
       "3                  Hotell, restaurang och turism                64 900   \n",
       "4        Hälso- och sjukvård samt socialt arbete                67 000   \n",
       "5                   Journalistik och information                66 600   \n",
       "6                                        Juridik                60 500   \n",
       "7                       Kultur, media och design                84 400   \n",
       "8   Lantbruk, djurvård, trädgård, skog och fiske               110 200   \n",
       "9                     Pedagogik och undervisning                71 300   \n",
       "10                Samhällsbyggnad och byggteknik                70 400   \n",
       "11                             Säkerhetstjänster                63 000   \n",
       "12                       Teknik och tillverkning                85 900   \n",
       "13                             Transporttjänster                80 400   \n",
       "\n",
       "   Med momskompensation  \n",
       "0                74 100  \n",
       "1                66 600  \n",
       "2                79 200  \n",
       "3                68 700  \n",
       "4                71 000  \n",
       "5                70 600  \n",
       "6                64 100  \n",
       "7                89 400  \n",
       "8               116 700  \n",
       "9                75 500  \n",
       "10               74 600  \n",
       "11               66 800  \n",
       "12               91 000  \n",
       "13               85 200  "
      ]
     },
     "execution_count": 5,
     "metadata": {},
     "output_type": "execute_result"
    }
   ],
   "source": [
    "df_list[0]"
   ]
  },
  {
   "cell_type": "code",
   "execution_count": 6,
   "id": "bced94d6",
   "metadata": {},
   "outputs": [
    {
     "name": "stdout",
     "output_type": "stream",
     "text": [
      "<class 'pandas.core.frame.DataFrame'>\n",
      "RangeIndex: 14 entries, 0 to 13\n",
      "Data columns (total 3 columns):\n",
      " #   Column                 Non-Null Count  Dtype \n",
      "---  ------                 --------------  ----- \n",
      " 0   Utbildningsområde      14 non-null     object\n",
      " 1   Utan momskompensation  14 non-null     object\n",
      " 2   Med momskompensation   14 non-null     object\n",
      "dtypes: object(3)\n",
      "memory usage: 468.0+ bytes\n"
     ]
    }
   ],
   "source": [
    "df.info()"
   ]
  },
  {
   "cell_type": "code",
   "execution_count": 7,
   "id": "c795e328",
   "metadata": {},
   "outputs": [],
   "source": [
    "df[\"Utan momskompensation\"] = df[\"Utan momskompensation\"].str.replace(\" \", \"\").astype(int)\n",
    "df[\"Med momskompensation\"] = df[\"Med momskompensation\"].str.replace(\" \", \"\").astype(int)"
   ]
  },
  {
   "cell_type": "code",
   "execution_count": 1,
   "id": "9c13b302",
   "metadata": {},
   "outputs": [
    {
     "ename": "NameError",
     "evalue": "name 'df' is not defined",
     "output_type": "error",
     "traceback": [
      "\u001b[31m---------------------------------------------------------------------------\u001b[39m",
      "\u001b[31mNameError\u001b[39m                                 Traceback (most recent call last)",
      "\u001b[36mCell\u001b[39m\u001b[36m \u001b[39m\u001b[32mIn[1]\u001b[39m\u001b[32m, line 1\u001b[39m\n\u001b[32m----> \u001b[39m\u001b[32m1\u001b[39m \u001b[43mdf\u001b[49m.to_csv(\u001b[33m\"\u001b[39m\u001b[33mData/statsbidrag_schablonnivåer.csv\u001b[39m\u001b[33m\"\u001b[39m, index=\u001b[38;5;28;01mFalse\u001b[39;00m)\n",
      "\u001b[31mNameError\u001b[39m: name 'df' is not defined"
     ]
    }
   ],
   "source": [
    "df.to_csv(\"Data/statsbidrag_schablonnivåer.csv\", index=False)"
   ]
  }
 ],
 "metadata": {
  "kernelspec": {
   "display_name": ".venv",
   "language": "python",
   "name": "python3"
  },
  "language_info": {
   "codemirror_mode": {
    "name": "ipython",
    "version": 3
   },
   "file_extension": ".py",
   "mimetype": "text/x-python",
   "name": "python",
   "nbconvert_exporter": "python",
   "pygments_lexer": "ipython3",
   "version": "3.13.2"
  }
 },
 "nbformat": 4,
 "nbformat_minor": 5
}
